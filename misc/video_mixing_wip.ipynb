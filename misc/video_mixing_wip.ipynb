{
 "cells": [
  {
   "cell_type": "code",
   "execution_count": null,
   "id": "14c39b3e",
   "metadata": {},
   "outputs": [],
   "source": [
    "encoded_obj = encode(obj)\n",
    "\n",
    "if callable(key):\n",
    "    key_func = key\n",
    "    key = key_func(obj, encoded_obj)\n",
    "\n",
    "if not callable(save_under_key):\n",
    "    if hasattr(save_under_key, '__setitem__'):\n",
    "        save_under_key[encoded_obj] = obj\n",
    "    else:\n",
    "        raise TypeError(\"save_under_key must be a callable function, or have a __setitem__ method.\")\n",
    "else:\n",
    "    save_under_key(encoded_obj, obj)"
   ]
  },
  {
   "cell_type": "markdown",
   "id": "c8452f28",
   "metadata": {},
   "source": [
    "# Grabbing frames"
   ]
  },
  {
   "cell_type": "code",
   "execution_count": 3,
   "id": "4b764d8d",
   "metadata": {},
   "outputs": [
    {
     "data": {
      "text/plain": [
       "'/Users/thorwhalen/Downloads/cosmo_vids/_13a_Universe_Rearranges_in_Network_Animation_-00001.png'"
      ]
     },
     "execution_count": 3,
     "metadata": {},
     "output_type": "execute_result"
    }
   ],
   "source": [
    "from mixing.video.video_files import save_frame\n",
    "\n",
    "video = '/Users/thorwhalen/Downloads/cosmo_vids/_13a_Universe_Rearranges_in_Network_Animation.mp4'\n",
    "save_frame(video, frame_idx=-1)"
   ]
  },
  {
   "cell_type": "code",
   "execution_count": 4,
   "id": "4a636782",
   "metadata": {},
   "outputs": [
    {
     "name": "stdout",
     "output_type": "stream",
     "text": [
      "Getting video source from clipboard...\n",
      "... Video source: /Users/thorwhalen/Downloads/i2i_vids/50b_Assembling_A_Prototype_Board.mp4\n",
      "Copying image to clipboard...\n",
      "Saved frame to: /Users/thorwhalen/Downloads/i2i_vids/50b_Assembling_A_Prototype_Board_-00001.png\n"
     ]
    },
    {
     "data": {
      "text/plain": [
       "'/Users/thorwhalen/Downloads/i2i_vids/50b_Assembling_A_Prototype_Board_-00001.png'"
      ]
     },
     "execution_count": 4,
     "metadata": {},
     "output_type": "execute_result"
    }
   ],
   "source": [
    "# from clipboard (from copied filepath) to clipboard (copy image bytes)\n",
    "from mixing.video.video_files import save_frame\n",
    "\n",
    "save_frame(frame_idx=-1, copy_to_clipboard=True)"
   ]
  },
  {
   "cell_type": "markdown",
   "id": "8fa8187a",
   "metadata": {},
   "source": [
    "# Concatenating videos"
   ]
  },
  {
   "cell_type": "code",
   "execution_count": 1,
   "id": "3a59a0c3",
   "metadata": {},
   "outputs": [
    {
     "data": {
      "text/plain": [
       "['/Users/thorwhalen/Downloads/cosmo_vids/01_Book_Skyscraper_City_Video.mp4',\n",
       " '/Users/thorwhalen/Downloads/cosmo_vids/02_Book_Towers_Collapsing_Video.mp4',\n",
       " '/Users/thorwhalen/Downloads/cosmo_vids/03d_Collapsing_Book_City_Cinematic_Video.mp4',\n",
       " '/Users/thorwhalen/Downloads/cosmo_vids/04b_City_Collapse_Book_Page_Animation.mp4',\n",
       " '/Users/thorwhalen/Downloads/cosmo_vids/05b_Collapsing_Book_Towers_Pages_in_Space.mp4',\n",
       " '/Users/thorwhalen/Downloads/cosmo_vids/06a_Celestial_Book_Page_Eruption_Video.mp4',\n",
       " '/Users/thorwhalen/Downloads/cosmo_vids/07b_page_to_stars_transition.mp4',\n",
       " '/Users/thorwhalen/Downloads/cosmo_vids/10_Visualizing_Customer_Review_Concentration.mp4',\n",
       " '/Users/thorwhalen/Downloads/cosmo_vids/11_Generating_Video_From_Image_Description.mp4',\n",
       " '/Users/thorwhalen/Downloads/cosmo_vids/12_Sphere_to_Constellation_Video_Generation.mp4']"
      ]
     },
     "execution_count": 1,
     "metadata": {},
     "output_type": "execute_result"
    }
   ],
   "source": [
    "import dol\n",
    "\n",
    "s = dol.filesys.FileCollection('/Users/thorwhalen/Downloads/cosmo_vids/', max_levels=0)\n",
    "s = dol.filt_iter(s, filt=lambda f: f.endswith('.mp4') and not f.startswith('/Users/thorwhalen/Downloads/cosmo_vids/_'))\n",
    "video_files = sorted(s)\n",
    "video_files"
   ]
  },
  {
   "cell_type": "code",
   "execution_count": 2,
   "id": "8bbd5afc",
   "metadata": {},
   "outputs": [
    {
     "name": "stdout",
     "output_type": "stream",
     "text": [
      "MoviePy - Building video /Users/thorwhalen/Downloads/cosmo_vids/combined_20251014.mp4.\n",
      "MoviePy - Writing audio in combined_20251014TEMP_MPY_wvf_snd.mp3\n"
     ]
    },
    {
     "name": "stderr",
     "output_type": "stream",
     "text": [
      "                                                                      "
     ]
    },
    {
     "name": "stdout",
     "output_type": "stream",
     "text": [
      "MoviePy - Done.\n",
      "MoviePy - Writing video /Users/thorwhalen/Downloads/cosmo_vids/combined_20251014.mp4\n",
      "\n"
     ]
    },
    {
     "name": "stderr",
     "output_type": "stream",
     "text": [
      "                                                                           "
     ]
    },
    {
     "name": "stdout",
     "output_type": "stream",
     "text": [
      "MoviePy - Done !\n",
      "MoviePy - video ready /Users/thorwhalen/Downloads/cosmo_vids/combined_20251014.mp4\n"
     ]
    }
   ],
   "source": [
    "from moviepy import VideoFileClip, concatenate_videoclips\n",
    "\n",
    "# video_files =\"\"\"\n",
    "# /Users/thorwhalen/Downloads/cosmo_vids/00_Book_Skyscraper_City_Video.mp4\n",
    "# /Users/thorwhalen/Downloads/cosmo_vids/01_Book_Towers_Collapsing_Video.mp4\n",
    "# /Users/thorwhalen/Downloads/cosmo_vids/03d_Collapsing_Book_City_Cinematic_Video.mp4\n",
    "# \"\"\".split()\n",
    "\n",
    "\n",
    "v = concatenate_videoclips(list(map(VideoFileClip, video_files)))\n",
    "v.write_videofile(\"/Users/thorwhalen/Downloads/cosmo_vids/combined_20251014.mp4\")"
   ]
  },
  {
   "cell_type": "markdown",
   "id": "933a144b",
   "metadata": {},
   "source": [
    "# verify frame continuity"
   ]
  },
  {
   "cell_type": "code",
   "execution_count": null,
   "id": "62e7b74d",
   "metadata": {},
   "outputs": [],
   "source": [
    "from mixing.video.video_concat import verify_frame_continuity\n",
    "\n",
    "match, diff = verify_frame_continuity(\n",
    "    '/Users/thorwhalen/Downloads/cosmo_vids/00_Book_Skyscraper_City_Video.mp4',\n",
    "    '/Users/thorwhalen/Downloads/cosmo_vids/01_Book_Towers_Collapsing_Video.mp4',\n",
    "    save_comparison='/Users/thorwhalen/Downloads/cosmo_vids/frame_comparison.png'\n",
    ")"
   ]
  },
  {
   "cell_type": "code",
   "execution_count": null,
   "id": "a577b4f8",
   "metadata": {},
   "outputs": [],
   "source": []
  },
  {
   "cell_type": "markdown",
   "id": "37fd9458",
   "metadata": {},
   "source": [
    "# Frames-to-Video"
   ]
  },
  {
   "cell_type": "code",
   "execution_count": null,
   "id": "27969821",
   "metadata": {},
   "outputs": [],
   "source": []
  },
  {
   "cell_type": "code",
   "execution_count": 12,
   "id": "554b16c3",
   "metadata": {},
   "outputs": [
    {
     "name": "stdout",
     "output_type": "stream",
     "text": [
      "Generated video: /Users/thorwhalen/Downloads/generated_video_ (3).mp4\n"
     ]
    }
   ],
   "source": [
    "from mixing.video.video_gen import generate_video\n",
    "\n",
    "video_paths = generate_video(\n",
    "    prompt=\"Camera rolls 90 degrees counter-clockwise, while flying papers glow so much till they look like stars.\",\n",
    "    first_frame='/Users/thorwhalen/Downloads/cosmo_vids/06a_Celestial_Book_Page_Eruption_Video.mp4',\n",
    "    last_frame= '/Users/thorwhalen/Downloads/cosmo_vids/10_Visualizing_Customer_Review_Concentration.mp4',\n",
    "    model=\"veo-2.0-generate-001\",\n",
    "    aspect_ratio=\"16:9\",\n",
    "    duration_seconds=8,\n",
    "    save_video=\"/Users/thorwhalen/Downloads/\",\n",
    ")\n",
    "\n",
    "# Handle both single path (string) and multiple paths (list)\n",
    "if isinstance(video_paths, str):\n",
    "    print(f\"Generated video: {video_paths}\")\n",
    "elif isinstance(video_paths, list):\n",
    "    print(\"Generated videos:\")\n",
    "    for i, p in enumerate(video_paths):\n",
    "        print(f\"  {i+1}: {p}\")\n",
    "else:\n",
    "    print(f\"Unexpected result type: {type(video_paths)} = {video_paths}\")"
   ]
  },
  {
   "cell_type": "code",
   "execution_count": null,
   "id": "3c0b6bc8",
   "metadata": {},
   "outputs": [],
   "source": []
  },
  {
   "cell_type": "code",
   "execution_count": null,
   "id": "6c047f42",
   "metadata": {},
   "outputs": [],
   "source": []
  },
  {
   "cell_type": "markdown",
   "id": "2698cae8",
   "metadata": {},
   "source": []
  },
  {
   "cell_type": "markdown",
   "id": "f95901a1",
   "metadata": {},
   "source": [
    "# Concatenating videos"
   ]
  },
  {
   "cell_type": "code",
   "execution_count": 8,
   "id": "b7889af3",
   "metadata": {},
   "outputs": [],
   "source": [
    "from mixing.video.video_concat import *"
   ]
  },
  {
   "cell_type": "code",
   "execution_count": 9,
   "id": "a6e89fd5",
   "metadata": {},
   "outputs": [
    {
     "name": "stdout",
     "output_type": "stream",
     "text": [
      "MoviePy - Building video /Users/thorwhalen/Downloads/cosmo_vids/concat_crossfade.mp4.\n",
      "MoviePy - Writing audio in concat_crossfadeTEMP_MPY_wvf_snd.mp3\n"
     ]
    },
    {
     "name": "stderr",
     "output_type": "stream",
     "text": [
      "                                                                    \r"
     ]
    },
    {
     "name": "stdout",
     "output_type": "stream",
     "text": [
      "MoviePy - Done.\n",
      "MoviePy - Writing video /Users/thorwhalen/Downloads/cosmo_vids/concat_crossfade.mp4\n",
      "\n"
     ]
    },
    {
     "name": "stderr",
     "output_type": "stream",
     "text": [
      "                                                                         \r"
     ]
    },
    {
     "name": "stdout",
     "output_type": "stream",
     "text": [
      "MoviePy - Done !\n",
      "MoviePy - video ready /Users/thorwhalen/Downloads/cosmo_vids/concat_crossfade.mp4\n",
      "Crossfade: Saved to /Users/thorwhalen/Downloads/cosmo_vids/concat_crossfade.mp4\n",
      "MoviePy - Building video /Users/thorwhalen/Downloads/cosmo_vids/concat_trim_crossfade.mp4.\n",
      "MoviePy - Writing audio in concat_trim_crossfadeTEMP_MPY_wvf_snd.mp3\n"
     ]
    },
    {
     "name": "stderr",
     "output_type": "stream",
     "text": [
      "                                                                    \r"
     ]
    },
    {
     "name": "stdout",
     "output_type": "stream",
     "text": [
      "MoviePy - Done.\n",
      "MoviePy - Writing video /Users/thorwhalen/Downloads/cosmo_vids/concat_trim_crossfade.mp4\n",
      "\n"
     ]
    },
    {
     "name": "stderr",
     "output_type": "stream",
     "text": [
      "                                                                         \r"
     ]
    },
    {
     "name": "stdout",
     "output_type": "stream",
     "text": [
      "MoviePy - Done !\n",
      "MoviePy - video ready /Users/thorwhalen/Downloads/cosmo_vids/concat_trim_crossfade.mp4\n",
      "Trim+Crossfade: Saved to /Users/thorwhalen/Downloads/cosmo_vids/concat_trim_crossfade.mp4\n",
      "MoviePy - Building video /Users/thorwhalen/Downloads/cosmo_vids/concat_black_fades.mp4.\n",
      "MoviePy - Writing audio in concat_black_fadesTEMP_MPY_wvf_snd.mp3\n"
     ]
    },
    {
     "name": "stderr",
     "output_type": "stream",
     "text": [
      "                                                                    \r"
     ]
    },
    {
     "name": "stdout",
     "output_type": "stream",
     "text": [
      "MoviePy - Done.\n",
      "MoviePy - Writing video /Users/thorwhalen/Downloads/cosmo_vids/concat_black_fades.mp4\n",
      "\n"
     ]
    },
    {
     "name": "stderr",
     "output_type": "stream",
     "text": [
      "                                                                         \r"
     ]
    },
    {
     "name": "stdout",
     "output_type": "stream",
     "text": [
      "MoviePy - Done !\n",
      "MoviePy - video ready /Users/thorwhalen/Downloads/cosmo_vids/concat_black_fades.mp4\n",
      "Black fades: Saved to /Users/thorwhalen/Downloads/cosmo_vids/concat_black_fades.mp4\n",
      "MoviePy - Building video /Users/thorwhalen/Downloads/cosmo_vids/concat_overlap.mp4.\n",
      "MoviePy - Writing audio in concat_overlapTEMP_MPY_wvf_snd.mp3\n"
     ]
    },
    {
     "name": "stderr",
     "output_type": "stream",
     "text": [
      "                                                                    \r"
     ]
    },
    {
     "name": "stdout",
     "output_type": "stream",
     "text": [
      "MoviePy - Done.\n",
      "MoviePy - Writing video /Users/thorwhalen/Downloads/cosmo_vids/concat_overlap.mp4\n",
      "\n"
     ]
    },
    {
     "name": "stderr",
     "output_type": "stream",
     "text": [
      "                                                                         \r"
     ]
    },
    {
     "name": "stdout",
     "output_type": "stream",
     "text": [
      "MoviePy - Done !\n",
      "MoviePy - video ready /Users/thorwhalen/Downloads/cosmo_vids/concat_overlap.mp4\n",
      "Overlap blend: Saved to /Users/thorwhalen/Downloads/cosmo_vids/concat_overlap.mp4\n",
      "\n",
      "✅ All four versions created! Compare them to see which you prefer.\n"
     ]
    }
   ],
   "source": [
    "def trim_first_frame_from_subsequent_clips(clips: list[VideoFileClip]) -> Iterable[VideoFileClip]:\n",
    "    \"\"\"Keep first clip intact, trim first frame from subsequent clips.\"\"\"\n",
    "    yield clips[0]\n",
    "    for clip in clips[1:]:\n",
    "        yield clip.subclipped(1 / clip.fps)\n",
    "        \n",
    "def stitch_with_first_frame_trim(video_paths, output_path):\n",
    "    \"\"\"Trim first frame from subsequent clips (no transition).\"\"\"\n",
    "    final_clip = concatenate_videos(\n",
    "        video_paths,\n",
    "        transform_clips=trim_first_frame_from_subsequent_clips,\n",
    "        output_path=output_path\n",
    "    )\n",
    "    final_clip.close()\n",
    "    print(f\"First frame trim: Saved to {output_path}\")\n",
    "\n",
    "\n",
    "def stitch_with_crossfade(video_paths, output_path, *, duration=0.5):\n",
    "    \"\"\"Simple crossfade between clips.\"\"\"\n",
    "    final_clip = concatenate_videos(\n",
    "        video_paths,\n",
    "        transform_clips=lambda clips: crossfade_transition(clips, duration=duration),\n",
    "        output_path=output_path\n",
    "    )\n",
    "    final_clip.close()\n",
    "    print(f\"Crossfade: Saved to {output_path}\")\n",
    "\n",
    "\n",
    "def stitch_with_trim_and_crossfade(video_paths, output_path, *, duration=0.4):\n",
    "    \"\"\"Trim first frame then crossfade.\"\"\"\n",
    "    final_clip = concatenate_videos(\n",
    "        video_paths,\n",
    "        transform_clips=lambda clips: trim_and_crossfade(clips, duration=duration),\n",
    "        output_path=output_path\n",
    "    )\n",
    "    final_clip.close()\n",
    "    print(f\"Trim+Crossfade: Saved to {output_path}\")\n",
    "\n",
    "\n",
    "def stitch_with_black_fades(video_paths, output_path, *, duration=0.3):\n",
    "    \"\"\"Fade through black between clips.\"\"\"\n",
    "    final_clip = concatenate_videos(\n",
    "        video_paths,\n",
    "        transform_clips=lambda clips: fade_through_black(clips, duration=duration),\n",
    "        output_path=output_path\n",
    "    )\n",
    "    final_clip.close()\n",
    "    print(f\"Black fades: Saved to {output_path}\")\n",
    "\n",
    "\n",
    "def stitch_with_overlap(video_paths, output_path, *, overlap=0.5):\n",
    "    \"\"\"Overlap and blend clips.\"\"\"\n",
    "    final_clip = concatenate_videos(\n",
    "        video_paths,\n",
    "        transform_clips=lambda clips: overlap_blend(clips, overlap=overlap),\n",
    "        output_path=output_path\n",
    "    )\n",
    "    final_clip.close()\n",
    "    print(f\"Overlap blend: Saved to {output_path}\")\n",
    "\n",
    "\n",
    "\n",
    "video_paths = \"\"\"\n",
    "/Users/thorwhalen/Downloads/cosmo_vids/00_Book_Skyscraper_City_Video.mp4\n",
    "/Users/thorwhalen/Downloads/cosmo_vids/01_Book_Towers_Collapsing_Video.mp4\n",
    "/Users/thorwhalen/Downloads/cosmo_vids/02_meh_Catastrophic_Book_City_Collapse_Video.mp4\n",
    "\"\"\".split()\n",
    "\n",
    "# Execute all four options\n",
    "base_path = \"/Users/thorwhalen/Downloads/cosmo_vids\"\n",
    "\n",
    "# Option 1: Simple crossfade\n",
    "stitch_with_crossfade(\n",
    "    video_paths,\n",
    "    f\"{base_path}/concat_crossfade.mp4\",\n",
    "    duration=0.5\n",
    ")\n",
    "\n",
    "# Option 2: Trim first frame + crossfade (RECOMMENDED)\n",
    "stitch_with_trim_and_crossfade(\n",
    "    video_paths,\n",
    "    f\"{base_path}/concat_trim_crossfade.mp4\",\n",
    "    duration=0.4\n",
    ")\n",
    "\n",
    "# Option 3: Fade through black\n",
    "stitch_with_black_fades(\n",
    "    video_paths,\n",
    "    f\"{base_path}/concat_black_fades.mp4\",\n",
    "    duration=0.3\n",
    ")\n",
    "\n",
    "# Option 4: Overlap blend\n",
    "stitch_with_overlap(\n",
    "    video_paths,\n",
    "    f\"{base_path}/concat_overlap.mp4\",\n",
    "    overlap=0.5\n",
    ")\n",
    "\n",
    "print(\"\\n✅ All four versions created! Compare them to see which you prefer.\")"
   ]
  },
  {
   "cell_type": "code",
   "execution_count": null,
   "id": "bd617801",
   "metadata": {},
   "outputs": [],
   "source": []
  },
  {
   "cell_type": "code",
   "execution_count": null,
   "id": "5b634de7",
   "metadata": {},
   "outputs": [],
   "source": []
  },
  {
   "cell_type": "code",
   "execution_count": null,
   "id": "15308540",
   "metadata": {},
   "outputs": [
    {
     "data": {
      "text/plain": [
       "(False, 0.1358312724105846)"
      ]
     },
     "metadata": {},
     "output_type": "display_data"
    }
   ],
   "source": [
    "verify_frame_continuity(\n",
    "    '/Users/thorwhalen/Downloads/cosmo_vids/00_Book_Skyscraper_City_Video.mp4',\n",
    "    '/Users/thorwhalen/Downloads/cosmo_vids/01_Book_Towers_Collapsing_Video.mp4'\n",
    ")"
   ]
  },
  {
   "cell_type": "code",
   "execution_count": null,
   "id": "e69c80e8",
   "metadata": {},
   "outputs": [
    {
     "name": "stdout",
     "output_type": "stream",
     "text": [
      "Comparison saved to: /Users/thorwhalen/Downloads/cosmo_vids/frame_comparison.png\n"
     ]
    }
   ],
   "source": [
    "match, diff = verify_frame_continuity(\n",
    "    '/Users/thorwhalen/Downloads/cosmo_vids/00_Book_Skyscraper_City_Video.mp4',\n",
    "    '/Users/thorwhalen/Downloads/cosmo_vids/01_Book_Towers_Collapsing_Video.mp4',\n",
    "    save_comparison='/Users/thorwhalen/Downloads/cosmo_vids/frame_comparison.png'\n",
    ")"
   ]
  },
  {
   "cell_type": "code",
   "execution_count": null,
   "id": "293445a9",
   "metadata": {},
   "outputs": [],
   "source": []
  },
  {
   "cell_type": "code",
   "execution_count": null,
   "id": "3e913a44",
   "metadata": {},
   "outputs": [],
   "source": []
  },
  {
   "cell_type": "code",
   "execution_count": null,
   "id": "5804c3bf",
   "metadata": {},
   "outputs": [],
   "source": []
  },
  {
   "cell_type": "code",
   "execution_count": null,
   "id": "296b4f02",
   "metadata": {},
   "outputs": [],
   "source": []
  },
  {
   "cell_type": "code",
   "execution_count": null,
   "id": "30348106",
   "metadata": {},
   "outputs": [],
   "source": []
  }
 ],
 "metadata": {
  "kernelspec": {
   "display_name": "p12",
   "language": "python",
   "name": "python3"
  },
  "language_info": {
   "codemirror_mode": {
    "name": "ipython",
    "version": 3
   },
   "file_extension": ".py",
   "mimetype": "text/x-python",
   "name": "python",
   "nbconvert_exporter": "python",
   "pygments_lexer": "ipython3",
   "version": "3.12.12"
  }
 },
 "nbformat": 4,
 "nbformat_minor": 5
}
