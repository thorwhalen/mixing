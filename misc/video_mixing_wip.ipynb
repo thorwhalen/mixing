{
 "cells": [
  {
   "cell_type": "code",
   "execution_count": null,
   "id": "14c39b3e",
   "metadata": {},
   "outputs": [],
   "source": []
  },
  {
   "cell_type": "code",
   "execution_count": null,
   "id": "6b9e985d",
   "metadata": {},
   "outputs": [],
   "source": []
  },
  {
   "cell_type": "markdown",
   "id": "f95901a1",
   "metadata": {},
   "source": [
    "# Concatenating videos"
   ]
  },
  {
   "cell_type": "code",
   "execution_count": 8,
   "id": "b7889af3",
   "metadata": {},
   "outputs": [],
   "source": [
    "from mixing.video.video_concat import *"
   ]
  },
  {
   "cell_type": "code",
   "execution_count": 9,
   "id": "a6e89fd5",
   "metadata": {},
   "outputs": [
    {
     "name": "stdout",
     "output_type": "stream",
     "text": [
      "MoviePy - Building video /Users/thorwhalen/Downloads/cosmo_vids/concat_crossfade.mp4.\n",
      "MoviePy - Writing audio in concat_crossfadeTEMP_MPY_wvf_snd.mp3\n"
     ]
    },
    {
     "name": "stderr",
     "output_type": "stream",
     "text": [
      "                                                                    \r"
     ]
    },
    {
     "name": "stdout",
     "output_type": "stream",
     "text": [
      "MoviePy - Done.\n",
      "MoviePy - Writing video /Users/thorwhalen/Downloads/cosmo_vids/concat_crossfade.mp4\n",
      "\n"
     ]
    },
    {
     "name": "stderr",
     "output_type": "stream",
     "text": [
      "                                                                         \r"
     ]
    },
    {
     "name": "stdout",
     "output_type": "stream",
     "text": [
      "MoviePy - Done !\n",
      "MoviePy - video ready /Users/thorwhalen/Downloads/cosmo_vids/concat_crossfade.mp4\n",
      "Crossfade: Saved to /Users/thorwhalen/Downloads/cosmo_vids/concat_crossfade.mp4\n",
      "MoviePy - Building video /Users/thorwhalen/Downloads/cosmo_vids/concat_trim_crossfade.mp4.\n",
      "MoviePy - Writing audio in concat_trim_crossfadeTEMP_MPY_wvf_snd.mp3\n"
     ]
    },
    {
     "name": "stderr",
     "output_type": "stream",
     "text": [
      "                                                                    \r"
     ]
    },
    {
     "name": "stdout",
     "output_type": "stream",
     "text": [
      "MoviePy - Done.\n",
      "MoviePy - Writing video /Users/thorwhalen/Downloads/cosmo_vids/concat_trim_crossfade.mp4\n",
      "\n"
     ]
    },
    {
     "name": "stderr",
     "output_type": "stream",
     "text": [
      "                                                                         \r"
     ]
    },
    {
     "name": "stdout",
     "output_type": "stream",
     "text": [
      "MoviePy - Done !\n",
      "MoviePy - video ready /Users/thorwhalen/Downloads/cosmo_vids/concat_trim_crossfade.mp4\n",
      "Trim+Crossfade: Saved to /Users/thorwhalen/Downloads/cosmo_vids/concat_trim_crossfade.mp4\n",
      "MoviePy - Building video /Users/thorwhalen/Downloads/cosmo_vids/concat_black_fades.mp4.\n",
      "MoviePy - Writing audio in concat_black_fadesTEMP_MPY_wvf_snd.mp3\n"
     ]
    },
    {
     "name": "stderr",
     "output_type": "stream",
     "text": [
      "                                                                    \r"
     ]
    },
    {
     "name": "stdout",
     "output_type": "stream",
     "text": [
      "MoviePy - Done.\n",
      "MoviePy - Writing video /Users/thorwhalen/Downloads/cosmo_vids/concat_black_fades.mp4\n",
      "\n"
     ]
    },
    {
     "name": "stderr",
     "output_type": "stream",
     "text": [
      "                                                                         \r"
     ]
    },
    {
     "name": "stdout",
     "output_type": "stream",
     "text": [
      "MoviePy - Done !\n",
      "MoviePy - video ready /Users/thorwhalen/Downloads/cosmo_vids/concat_black_fades.mp4\n",
      "Black fades: Saved to /Users/thorwhalen/Downloads/cosmo_vids/concat_black_fades.mp4\n",
      "MoviePy - Building video /Users/thorwhalen/Downloads/cosmo_vids/concat_overlap.mp4.\n",
      "MoviePy - Writing audio in concat_overlapTEMP_MPY_wvf_snd.mp3\n"
     ]
    },
    {
     "name": "stderr",
     "output_type": "stream",
     "text": [
      "                                                                    \r"
     ]
    },
    {
     "name": "stdout",
     "output_type": "stream",
     "text": [
      "MoviePy - Done.\n",
      "MoviePy - Writing video /Users/thorwhalen/Downloads/cosmo_vids/concat_overlap.mp4\n",
      "\n"
     ]
    },
    {
     "name": "stderr",
     "output_type": "stream",
     "text": [
      "                                                                         \r"
     ]
    },
    {
     "name": "stdout",
     "output_type": "stream",
     "text": [
      "MoviePy - Done !\n",
      "MoviePy - video ready /Users/thorwhalen/Downloads/cosmo_vids/concat_overlap.mp4\n",
      "Overlap blend: Saved to /Users/thorwhalen/Downloads/cosmo_vids/concat_overlap.mp4\n",
      "\n",
      "✅ All four versions created! Compare them to see which you prefer.\n"
     ]
    }
   ],
   "source": [
    "def trim_first_frame_from_subsequent_clips(clips: list[VideoFileClip]) -> Iterable[VideoFileClip]:\n",
    "    \"\"\"Keep first clip intact, trim first frame from subsequent clips.\"\"\"\n",
    "    yield clips[0]\n",
    "    for clip in clips[1:]:\n",
    "        yield clip.subclipped(1 / clip.fps)\n",
    "        \n",
    "def stitch_with_first_frame_trim(video_paths, output_path):\n",
    "    \"\"\"Trim first frame from subsequent clips (no transition).\"\"\"\n",
    "    final_clip = concatenate_videos(\n",
    "        video_paths,\n",
    "        transform_clips=trim_first_frame_from_subsequent_clips,\n",
    "        output_path=output_path\n",
    "    )\n",
    "    final_clip.close()\n",
    "    print(f\"First frame trim: Saved to {output_path}\")\n",
    "\n",
    "\n",
    "def stitch_with_crossfade(video_paths, output_path, *, duration=0.5):\n",
    "    \"\"\"Simple crossfade between clips.\"\"\"\n",
    "    final_clip = concatenate_videos(\n",
    "        video_paths,\n",
    "        transform_clips=lambda clips: crossfade_transition(clips, duration=duration),\n",
    "        output_path=output_path\n",
    "    )\n",
    "    final_clip.close()\n",
    "    print(f\"Crossfade: Saved to {output_path}\")\n",
    "\n",
    "\n",
    "def stitch_with_trim_and_crossfade(video_paths, output_path, *, duration=0.4):\n",
    "    \"\"\"Trim first frame then crossfade.\"\"\"\n",
    "    final_clip = concatenate_videos(\n",
    "        video_paths,\n",
    "        transform_clips=lambda clips: trim_and_crossfade(clips, duration=duration),\n",
    "        output_path=output_path\n",
    "    )\n",
    "    final_clip.close()\n",
    "    print(f\"Trim+Crossfade: Saved to {output_path}\")\n",
    "\n",
    "\n",
    "def stitch_with_black_fades(video_paths, output_path, *, duration=0.3):\n",
    "    \"\"\"Fade through black between clips.\"\"\"\n",
    "    final_clip = concatenate_videos(\n",
    "        video_paths,\n",
    "        transform_clips=lambda clips: fade_through_black(clips, duration=duration),\n",
    "        output_path=output_path\n",
    "    )\n",
    "    final_clip.close()\n",
    "    print(f\"Black fades: Saved to {output_path}\")\n",
    "\n",
    "\n",
    "def stitch_with_overlap(video_paths, output_path, *, overlap=0.5):\n",
    "    \"\"\"Overlap and blend clips.\"\"\"\n",
    "    final_clip = concatenate_videos(\n",
    "        video_paths,\n",
    "        transform_clips=lambda clips: overlap_blend(clips, overlap=overlap),\n",
    "        output_path=output_path\n",
    "    )\n",
    "    final_clip.close()\n",
    "    print(f\"Overlap blend: Saved to {output_path}\")\n",
    "\n",
    "\n",
    "\n",
    "video_paths = \"\"\"\n",
    "/Users/thorwhalen/Downloads/cosmo_vids/00_Book_Skyscraper_City_Video.mp4\n",
    "/Users/thorwhalen/Downloads/cosmo_vids/01_Book_Towers_Collapsing_Video.mp4\n",
    "/Users/thorwhalen/Downloads/cosmo_vids/02_meh_Catastrophic_Book_City_Collapse_Video.mp4\n",
    "\"\"\".split()\n",
    "\n",
    "# Execute all four options\n",
    "base_path = \"/Users/thorwhalen/Downloads/cosmo_vids\"\n",
    "\n",
    "# Option 1: Simple crossfade\n",
    "stitch_with_crossfade(\n",
    "    video_paths,\n",
    "    f\"{base_path}/concat_crossfade.mp4\",\n",
    "    duration=0.5\n",
    ")\n",
    "\n",
    "# Option 2: Trim first frame + crossfade (RECOMMENDED)\n",
    "stitch_with_trim_and_crossfade(\n",
    "    video_paths,\n",
    "    f\"{base_path}/concat_trim_crossfade.mp4\",\n",
    "    duration=0.4\n",
    ")\n",
    "\n",
    "# Option 3: Fade through black\n",
    "stitch_with_black_fades(\n",
    "    video_paths,\n",
    "    f\"{base_path}/concat_black_fades.mp4\",\n",
    "    duration=0.3\n",
    ")\n",
    "\n",
    "# Option 4: Overlap blend\n",
    "stitch_with_overlap(\n",
    "    video_paths,\n",
    "    f\"{base_path}/concat_overlap.mp4\",\n",
    "    overlap=0.5\n",
    ")\n",
    "\n",
    "print(\"\\n✅ All four versions created! Compare them to see which you prefer.\")"
   ]
  },
  {
   "cell_type": "code",
   "execution_count": null,
   "id": "bd617801",
   "metadata": {},
   "outputs": [],
   "source": []
  },
  {
   "cell_type": "code",
   "execution_count": null,
   "id": "5b634de7",
   "metadata": {},
   "outputs": [],
   "source": []
  },
  {
   "cell_type": "code",
   "execution_count": null,
   "id": "15308540",
   "metadata": {},
   "outputs": [
    {
     "data": {
      "text/plain": [
       "(False, 0.1358312724105846)"
      ]
     },
     "metadata": {},
     "output_type": "display_data"
    }
   ],
   "source": [
    "verify_frame_continuity(\n",
    "    '/Users/thorwhalen/Downloads/cosmo_vids/00_Book_Skyscraper_City_Video.mp4',\n",
    "    '/Users/thorwhalen/Downloads/cosmo_vids/01_Book_Towers_Collapsing_Video.mp4'\n",
    ")"
   ]
  },
  {
   "cell_type": "code",
   "execution_count": null,
   "id": "e69c80e8",
   "metadata": {},
   "outputs": [
    {
     "name": "stdout",
     "output_type": "stream",
     "text": [
      "Comparison saved to: /Users/thorwhalen/Downloads/cosmo_vids/frame_comparison.png\n"
     ]
    }
   ],
   "source": [
    "match, diff = verify_frame_continuity(\n",
    "    '/Users/thorwhalen/Downloads/cosmo_vids/00_Book_Skyscraper_City_Video.mp4',\n",
    "    '/Users/thorwhalen/Downloads/cosmo_vids/01_Book_Towers_Collapsing_Video.mp4',\n",
    "    save_comparison='/Users/thorwhalen/Downloads/cosmo_vids/frame_comparison.png'\n",
    ")"
   ]
  },
  {
   "cell_type": "code",
   "execution_count": null,
   "id": "293445a9",
   "metadata": {},
   "outputs": [],
   "source": []
  },
  {
   "cell_type": "code",
   "execution_count": null,
   "id": "3e913a44",
   "metadata": {},
   "outputs": [],
   "source": []
  },
  {
   "cell_type": "code",
   "execution_count": null,
   "id": "5804c3bf",
   "metadata": {},
   "outputs": [],
   "source": []
  },
  {
   "cell_type": "code",
   "execution_count": null,
   "id": "296b4f02",
   "metadata": {},
   "outputs": [],
   "source": []
  },
  {
   "cell_type": "code",
   "execution_count": null,
   "id": "30348106",
   "metadata": {},
   "outputs": [],
   "source": []
  }
 ],
 "metadata": {
  "kernelspec": {
   "display_name": "p10",
   "language": "python",
   "name": "python3"
  },
  "language_info": {
   "codemirror_mode": {
    "name": "ipython",
    "version": 3
   },
   "file_extension": ".py",
   "mimetype": "text/x-python",
   "name": "python",
   "nbconvert_exporter": "python",
   "pygments_lexer": "ipython3",
   "version": "3.10.13"
  }
 },
 "nbformat": 4,
 "nbformat_minor": 5
}
