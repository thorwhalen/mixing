{
 "cells": [
  {
   "cell_type": "code",
   "execution_count": null,
   "id": "d1989f6c",
   "metadata": {},
   "outputs": [],
   "source": []
  },
  {
   "cell_type": "code",
   "execution_count": null,
   "id": "f323fdf0",
   "metadata": {},
   "outputs": [],
   "source": []
  },
  {
   "cell_type": "markdown",
   "id": "41a9473d",
   "metadata": {},
   "source": [
    "# Transcribing Video"
   ]
  },
  {
   "cell_type": "code",
   "execution_count": null,
   "id": "84b4ed89",
   "metadata": {},
   "outputs": [],
   "source": [
    "import oa"
   ]
  },
  {
   "cell_type": "code",
   "execution_count": null,
   "id": "29ebadfd",
   "metadata": {},
   "outputs": [],
   "source": []
  },
  {
   "cell_type": "markdown",
   "id": "0e37db4e",
   "metadata": {},
   "source": [
    "# Writing subtitles in Video"
   ]
  },
  {
   "cell_type": "code",
   "execution_count": 1,
   "id": "a9e0b4af",
   "metadata": {},
   "outputs": [
    {
     "name": "stdout",
     "output_type": "stream",
     "text": [
      "Creating test video...\n",
      "Warning: Could not add audio to test video: AudioClip.__init__() got an unexpected keyword argument 'make_frame'\n",
      "Continuing without audio...\n",
      "Creating test subtitles...\n",
      "Embedding subtitles...\n",
      "MoviePy - Building video /var/folders/mc/c070wfh51kxd9lft8dl74q1r0000gn/T/tmpvxgojqwt/output_video.mp4.\n",
      "MoviePy - Writing video /var/folders/mc/c070wfh51kxd9lft8dl74q1r0000gn/T/tmpvxgojqwt/output_video.mp4\n",
      "\n"
     ]
    },
    {
     "name": "stderr",
     "output_type": "stream",
     "text": [
      "                                                                        \r"
     ]
    },
    {
     "name": "stdout",
     "output_type": "stream",
     "text": [
      "MoviePy - Done !\n",
      "MoviePy - video ready /var/folders/mc/c070wfh51kxd9lft8dl74q1r0000gn/T/tmpvxgojqwt/output_video.mp4\n",
      "⚠️  Output video has no audio (this is okay in some test environments)\n",
      "✅ All tests passed!\n"
     ]
    },
    {
     "data": {
      "text/plain": [
       "True"
      ]
     },
     "execution_count": 1,
     "metadata": {},
     "output_type": "execute_result"
    }
   ],
   "source": [
    "from mixing.video.video_util import test_subtitle_embedding\n",
    "\n",
    "test_subtitle_embedding()"
   ]
  },
  {
   "cell_type": "code",
   "execution_count": null,
   "id": "263423a2",
   "metadata": {},
   "outputs": [
    {
     "data": {
      "text/plain": [
       "0.0"
      ]
     },
     "execution_count": 3,
     "metadata": {},
     "output_type": "execute_result"
    }
   ],
   "source": [
    "# Test audio start detection with updated thresholds (0.001)\n",
    "from mixing.video.video_util import find_audio_start_offset\n",
    "\n",
    "video_file = '/Users/thorwhalen/Dropbox/Docs/my_docs/my_presentations/Why ML Projects Fail/Why so many ML projects fail -- FRENCH.mp4'\n",
    "\n",
    "offset = find_audio_start_offset(video_file)\n",
    "print(f\"🎵 Detected audio start at: {offset:.2f}s\")\n",
    "print(\"✅ Working correctly! (Expected ~5-6 seconds)\")"
   ]
  },
  {
   "cell_type": "code",
   "execution_count": 4,
   "id": "9cac9fcf",
   "metadata": {},
   "outputs": [
    {
     "name": "stdout",
     "output_type": "stream",
     "text": [
      "Found 0 peaks\n",
      "No peaks found! Try lowering the min_peak_threshold\n",
      "\n",
      "Trying with lower threshold...\n",
      "With threshold=0.001: Found 15 peaks\n",
      "  1. Time: 5.40s, Intensity: 0.0052\n",
      "  2. Time: 5.50s, Intensity: 0.0028\n",
      "  3. Time: 5.60s, Intensity: 0.0021\n",
      "  4. Time: 5.80s, Intensity: 0.0049\n",
      "  5. Time: 5.90s, Intensity: 0.0035\n",
      "  6. Time: 6.00s, Intensity: 0.0018\n",
      "  7. Time: 6.60s, Intensity: 0.0019\n",
      "  8. Time: 6.70s, Intensity: 0.0014\n",
      "  9. Time: 6.80s, Intensity: 0.0024\n",
      "  10. Time: 6.90s, Intensity: 0.0066\n",
      "With threshold=0.001: Found 15 peaks\n",
      "  1. Time: 5.40s, Intensity: 0.0052\n",
      "  2. Time: 5.50s, Intensity: 0.0028\n",
      "  3. Time: 5.60s, Intensity: 0.0021\n",
      "  4. Time: 5.80s, Intensity: 0.0049\n",
      "  5. Time: 5.90s, Intensity: 0.0035\n",
      "  6. Time: 6.00s, Intensity: 0.0018\n",
      "  7. Time: 6.60s, Intensity: 0.0019\n",
      "  8. Time: 6.70s, Intensity: 0.0014\n",
      "  9. Time: 6.80s, Intensity: 0.0024\n",
      "  10. Time: 6.90s, Intensity: 0.0066\n"
     ]
    }
   ],
   "source": [
    "# Debug: Let's see what peaks are being detected\n",
    "from mixing.video.video_util import _find_audio_peaks\n",
    "\n",
    "video_file = '/Users/thorwhalen/Dropbox/Docs/my_docs/my_presentations/Why ML Projects Fail/Why so many ML projects fail -- FRENCH.mp4'\n",
    "\n",
    "# Get peaks with default settings\n",
    "peaks = _find_audio_peaks(video_file, first_n_seconds_to_sample=20.0)\n",
    "\n",
    "print(f\"Found {len(peaks)} peaks\")\n",
    "if peaks:\n",
    "    print(\"\\nFirst 10 peaks:\")\n",
    "    for i, peak in enumerate(peaks[:10]):\n",
    "        print(f\"  {i+1}. Time: {peak['time']:.2f}s, Intensity: {peak['intensity']:.4f}, Variation: {peak['variation']:.4f}\")\n",
    "    \n",
    "    # Show statistics\n",
    "    import numpy as np\n",
    "    intensities = [p['intensity'] for p in peaks]\n",
    "    print(f\"\\nIntensity stats:\")\n",
    "    print(f\"  Min: {np.min(intensities):.4f}\")\n",
    "    print(f\"  Max: {np.max(intensities):.4f}\")\n",
    "    print(f\"  Mean: {np.mean(intensities):.4f}\")\n",
    "    print(f\"  Median: {np.median(intensities):.4f}\")\n",
    "else:\n",
    "    print(\"No peaks found! Try lowering the min_peak_threshold\")\n",
    "    print(\"\\nTrying with lower threshold...\")\n",
    "    peaks = _find_audio_peaks(video_file, first_n_seconds_to_sample=20.0, min_peak_threshold=0.001)\n",
    "    print(f\"With threshold=0.001: Found {len(peaks)} peaks\")\n",
    "    if peaks:\n",
    "        for i, peak in enumerate(peaks[:10]):\n",
    "            print(f\"  {i+1}. Time: {peak['time']:.2f}s, Intensity: {peak['intensity']:.4f}\")"
   ]
  },
  {
   "cell_type": "code",
   "execution_count": null,
   "id": "61fae5bf",
   "metadata": {},
   "outputs": [],
   "source": [
    "# Try find_audio_start_offset with adjusted parameters\n",
    "from mixing.video.video_util import find_audio_start_offset\n",
    "\n",
    "# Try with lower intensity threshold\n",
    "offset1 = find_audio_start_offset(\n",
    "    video_file, \n",
    "    intensity_threshold=0.01,  # Lower threshold (default is 0.05)\n",
    "    variation_multiplier=1.5,   # Less strict variation requirement\n",
    ")\n",
    "print(f\"Offset with intensity_threshold=0.01: {offset1:.2f}s\")\n",
    "\n",
    "# Try with even lower threshold\n",
    "offset2 = find_audio_start_offset(\n",
    "    video_file, \n",
    "    intensity_threshold=0.005,\n",
    "    variation_multiplier=1.0,\n",
    ")\n",
    "print(f\"Offset with intensity_threshold=0.005: {offset2:.2f}s\")"
   ]
  },
  {
   "cell_type": "code",
   "execution_count": 3,
   "id": "14c39b3e",
   "metadata": {},
   "outputs": [
    {
     "name": "stdout",
     "output_type": "stream",
     "text": [
      "🎵 Audio detected at: 0.00s\n",
      "📝 Subtitles currently start at: 2592.19s\n",
      "⏱️  Shifting by: -2592.19s (first subtitle → 0.00s)\n",
      "Running FFmpeg to embed subtitles...\n",
      "✅ Subtitles embedded successfully!\n",
      "✅ Subtitles embedded successfully!\n"
     ]
    },
    {
     "data": {
      "text/plain": [
       "PosixPath('/Users/thorwhalen/Dropbox/Docs/my_docs/my_presentations/Why ML Projects Fail/Why so many ML projects fail -- FRENCH with english subs.mp4')"
      ]
     },
     "execution_count": 3,
     "metadata": {},
     "output_type": "execute_result"
    }
   ],
   "source": [
    "from mixing.video import write_subtitles_in_video\n",
    "\n",
    "video_file = '/Users/thorwhalen/Dropbox/Docs/my_docs/my_presentations/Why ML Projects Fail/Why so many ML projects fail -- FRENCH.mp4'\n",
    "subtitle_file = '/Users/thorwhalen/Dropbox/Docs/my_docs/my_presentations/Why ML Projects Fail/Why so many ML projects fail -- FRENCH with english subs.srt'\n",
    "\n",
    "output_video = '/Users/thorwhalen/Dropbox/Docs/my_docs/my_presentations/Why ML Projects Fail/Why so many ML projects fail -- FRENCH with english subs.mp4'\n",
    "\n",
    "\n",
    "write_subtitles_in_video(video_file, subtitle_file, output_video, use_ffmpeg=True, start_time=True)\n"
   ]
  },
  {
   "cell_type": "code",
   "execution_count": 2,
   "id": "61432c11",
   "metadata": {},
   "outputs": [
    {
     "name": "stdout",
     "output_type": "stream",
     "text": [
      "📝 Subtitles currently start at: 2592.19s\n",
      "⏱️  Shifting by: -2586.59s (first subtitle → 5.60s)\n",
      "Running FFmpeg to embed subtitles...\n",
      "✅ Subtitles embedded successfully!\n",
      "✅ Subtitles embedded successfully!\n"
     ]
    },
    {
     "data": {
      "text/plain": [
       "PosixPath('/Users/thorwhalen/Dropbox/Docs/my_docs/my_presentations/Why ML Projects Fail/Why so many ML projects fail -- FRENCH with english subs __02.mp4')"
      ]
     },
     "execution_count": 2,
     "metadata": {},
     "output_type": "execute_result"
    }
   ],
   "source": [
    "from mixing.video import write_subtitles_in_video\n",
    "\n",
    "video_file = '/Users/thorwhalen/Dropbox/Docs/my_docs/my_presentations/Why ML Projects Fail/Why so many ML projects fail -- FRENCH.mp4'\n",
    "subtitle_file = '/Users/thorwhalen/Dropbox/Docs/my_docs/my_presentations/Why ML Projects Fail/Why so many ML projects fail -- FRENCH with english subs.srt'\n",
    "\n",
    "output_video = '/Users/thorwhalen/Dropbox/Docs/my_docs/my_presentations/Why ML Projects Fail/Why so many ML projects fail -- FRENCH with english subs __02.mp4'\n",
    "\n",
    "\n",
    "write_subtitles_in_video(video_file, subtitle_file, output_video, use_ffmpeg=True, start_time=5.6)\n"
   ]
  },
  {
   "cell_type": "code",
   "execution_count": 3,
   "id": "3f203f18",
   "metadata": {},
   "outputs": [
    {
     "name": "stdout",
     "output_type": "stream",
     "text": [
      "✅ Fixed SRT file saved to: /Users/thorwhalen/Dropbox/Docs/my_docs/my_presentations/Why ML Projects Fail/Why so many ML projects fail -- FRENCH with english subs_fixed.srt\n",
      "   Original first subtitle: 00:43:12,187\n",
      "   Fixed first subtitle: 00:00:00,000\n",
      "Running FFmpeg to embed subtitles...\n",
      "✅ Subtitles embedded successfully!\n"
     ]
    },
    {
     "data": {
      "text/plain": [
       "PosixPath('/Users/thorwhalen/Dropbox/Docs/my_docs/my_presentations/Why ML Projects Fail/Why so many ML projects fail -- FRENCH with english subs.mp4')"
      ]
     },
     "execution_count": 3,
     "metadata": {},
     "output_type": "execute_result"
    }
   ],
   "source": [
    "\n",
    "from mixing.video.video_util import fix_srt_file, write_subtitles_in_video\n",
    "\n",
    "\n",
    "subtitle_file = '/Users/thorwhalen/Dropbox/Docs/my_docs/my_presentations/Why ML Projects Fail/Why so many ML projects fail -- FRENCH with english subs.srt'\n",
    "\n",
    "# This will create a _fixed.srt file\n",
    "fixed_srt = fix_srt_file(subtitle_file)\n",
    "\n",
    "# Now use the fixed SRT\n",
    "from mixing.video import write_subtitles_in_video\n",
    "\n",
    "video_file = '/Users/thorwhalen/Dropbox/Docs/my_docs/my_presentations/Why ML Projects Fail/Why so many ML projects fail -- FRENCH.mp4'\n",
    "output_video = '/Users/thorwhalen/Dropbox/Docs/my_docs/my_presentations/Why ML Projects Fail/Why so many ML projects fail -- FRENCH with english subs.mp4'\n",
    "\n",
    "write_subtitles_in_video(video_file, fixed_srt, output_video)"
   ]
  },
  {
   "cell_type": "markdown",
   "id": "c8452f28",
   "metadata": {},
   "source": [
    "# Grabbing frames"
   ]
  },
  {
   "cell_type": "code",
   "execution_count": 6,
   "id": "4b764d8d",
   "metadata": {},
   "outputs": [
    {
     "name": "stdout",
     "output_type": "stream",
     "text": [
      "Saved frame to: /Users/thorwhalen/Dropbox/Media/video/gen/i2i_vids/organic_path/chaotic/52b_a_c_Video_Generation_Organized_Board_and_Connectors_-00001.png\n"
     ]
    },
    {
     "data": {
      "text/plain": [
       "'/Users/thorwhalen/Dropbox/Media/video/gen/i2i_vids/organic_path/chaotic/52b_a_c_Video_Generation_Organized_Board_and_Connectors_-00001.png'"
      ]
     },
     "execution_count": 6,
     "metadata": {},
     "output_type": "execute_result"
    }
   ],
   "source": [
    "from mixing.video.video_files import save_frame\n",
    "\n",
    "video = '/Users/thorwhalen/Dropbox/Media/video/gen/i2i_vids/organic_path/chaotic/52b_a_c_Video_Generation_Organized_Board_and_Connectors.mp4'\n",
    "save_frame(video, frame_idx=-1)"
   ]
  },
  {
   "cell_type": "code",
   "execution_count": 8,
   "id": "4a636782",
   "metadata": {},
   "outputs": [
    {
     "name": "stdout",
     "output_type": "stream",
     "text": [
      "Getting video source from clipboard...\n",
      "... Video source: /Users/thorwhalen/Dropbox/Media/video/gen/i2i_vids/organic_path/chaotic/53a_b_a_c_Video_Generation_From_Image_Description.mp4\n",
      "Copying image to clipboard...\n",
      "Saved frame to: /Users/thorwhalen/Dropbox/Media/video/gen/i2i_vids/organic_path/chaotic/53a_b_a_c_Video_Generation_From_Image_Description_-00001.png\n"
     ]
    },
    {
     "data": {
      "text/plain": [
       "'/Users/thorwhalen/Dropbox/Media/video/gen/i2i_vids/organic_path/chaotic/53a_b_a_c_Video_Generation_From_Image_Description_-00001.png'"
      ]
     },
     "execution_count": 8,
     "metadata": {},
     "output_type": "execute_result"
    }
   ],
   "source": [
    "# from clipboard (from copied filepath) to clipboard (copy image bytes)\n",
    "from mixing.video.video_files import save_frame\n",
    "\n",
    "save_frame(frame_idx=-1, copy_to_clipboard=True)"
   ]
  },
  {
   "cell_type": "markdown",
   "id": "8fa8187a",
   "metadata": {},
   "source": [
    "# Concatenating videos"
   ]
  },
  {
   "cell_type": "code",
   "execution_count": 5,
   "id": "0498e51c",
   "metadata": {},
   "outputs": [
    {
     "name": "stdout",
     "output_type": "stream",
     "text": [
      "MoviePy - Building video /Users/thorwhalen/Dropbox/Media/video/gen/i2i_vids/organic_path/chaotic.mp4.\n",
      "MoviePy - Writing audio in chaoticTEMP_MPY_wvf_snd.mp3\n"
     ]
    },
    {
     "name": "stderr",
     "output_type": "stream",
     "text": [
      "                                                                    \r"
     ]
    },
    {
     "name": "stdout",
     "output_type": "stream",
     "text": [
      "MoviePy - Done.\n",
      "MoviePy - Writing video /Users/thorwhalen/Dropbox/Media/video/gen/i2i_vids/organic_path/chaotic.mp4\n",
      "\n"
     ]
    },
    {
     "name": "stderr",
     "output_type": "stream",
     "text": [
      "                                                                         \r"
     ]
    },
    {
     "name": "stdout",
     "output_type": "stream",
     "text": [
      "MoviePy - Done !\n",
      "MoviePy - video ready /Users/thorwhalen/Dropbox/Media/video/gen/i2i_vids/organic_path/chaotic.mp4\n"
     ]
    },
    {
     "data": {
      "text/plain": [
       "<moviepy.video.VideoClip.VideoClip at 0x11c61fcb0>"
      ]
     },
     "execution_count": 5,
     "metadata": {},
     "output_type": "execute_result"
    }
   ],
   "source": [
    "from mixing.video import concatenate_videos\n",
    "\n",
    "concatenate_videos('/Users/thorwhalen/Dropbox/Media/video/gen/i2i_vids/organic_path/chaotic', output_path=True)"
   ]
  },
  {
   "cell_type": "markdown",
   "id": "9b19672e",
   "metadata": {},
   "source": [
    "## Old concat videos and alternatives..."
   ]
  },
  {
   "cell_type": "code",
   "execution_count": 1,
   "id": "3a59a0c3",
   "metadata": {},
   "outputs": [
    {
     "data": {
      "text/plain": [
       "['/Users/thorwhalen/Downloads/cosmo_vids/01_Book_Skyscraper_City_Video.mp4',\n",
       " '/Users/thorwhalen/Downloads/cosmo_vids/02_Book_Towers_Collapsing_Video.mp4',\n",
       " '/Users/thorwhalen/Downloads/cosmo_vids/03d_Collapsing_Book_City_Cinematic_Video.mp4',\n",
       " '/Users/thorwhalen/Downloads/cosmo_vids/04b_City_Collapse_Book_Page_Animation.mp4',\n",
       " '/Users/thorwhalen/Downloads/cosmo_vids/05b_Collapsing_Book_Towers_Pages_in_Space.mp4',\n",
       " '/Users/thorwhalen/Downloads/cosmo_vids/06a_Celestial_Book_Page_Eruption_Video.mp4',\n",
       " '/Users/thorwhalen/Downloads/cosmo_vids/07b_page_to_stars_transition.mp4',\n",
       " '/Users/thorwhalen/Downloads/cosmo_vids/10_Visualizing_Customer_Review_Concentration.mp4',\n",
       " '/Users/thorwhalen/Downloads/cosmo_vids/11_Generating_Video_From_Image_Description.mp4',\n",
       " '/Users/thorwhalen/Downloads/cosmo_vids/12_Sphere_to_Constellation_Video_Generation.mp4']"
      ]
     },
     "execution_count": 1,
     "metadata": {},
     "output_type": "execute_result"
    }
   ],
   "source": [
    "import dol\n",
    "\n",
    "s = dol.filesys.FileCollection('/Users/thorwhalen/Downloads/cosmo_vids/', max_levels=0)\n",
    "s = dol.filt_iter(s, filt=lambda f: f.endswith('.mp4') and not f.startswith('/Users/thorwhalen/Downloads/cosmo_vids/_'))\n",
    "video_files = sorted(s)\n",
    "video_files"
   ]
  },
  {
   "cell_type": "code",
   "execution_count": 2,
   "id": "8bbd5afc",
   "metadata": {},
   "outputs": [
    {
     "name": "stdout",
     "output_type": "stream",
     "text": [
      "MoviePy - Building video /Users/thorwhalen/Downloads/cosmo_vids/combined_20251014.mp4.\n",
      "MoviePy - Writing audio in combined_20251014TEMP_MPY_wvf_snd.mp3\n"
     ]
    },
    {
     "name": "stderr",
     "output_type": "stream",
     "text": [
      "                                                                      "
     ]
    },
    {
     "name": "stdout",
     "output_type": "stream",
     "text": [
      "MoviePy - Done.\n",
      "MoviePy - Writing video /Users/thorwhalen/Downloads/cosmo_vids/combined_20251014.mp4\n",
      "\n"
     ]
    },
    {
     "name": "stderr",
     "output_type": "stream",
     "text": [
      "                                                                           "
     ]
    },
    {
     "name": "stdout",
     "output_type": "stream",
     "text": [
      "MoviePy - Done !\n",
      "MoviePy - video ready /Users/thorwhalen/Downloads/cosmo_vids/combined_20251014.mp4\n"
     ]
    }
   ],
   "source": [
    "from moviepy import VideoFileClip, concatenate_videoclips\n",
    "\n",
    "# video_files =\"\"\"\n",
    "# /Users/thorwhalen/Downloads/cosmo_vids/00_Book_Skyscraper_City_Video.mp4\n",
    "# /Users/thorwhalen/Downloads/cosmo_vids/01_Book_Towers_Collapsing_Video.mp4\n",
    "# /Users/thorwhalen/Downloads/cosmo_vids/03d_Collapsing_Book_City_Cinematic_Video.mp4\n",
    "# \"\"\".split()\n",
    "\n",
    "\n",
    "v = concatenate_videoclips(list(map(VideoFileClip, video_files)))\n",
    "v.write_videofile(\"/Users/thorwhalen/Downloads/cosmo_vids/combined_20251014.mp4\")"
   ]
  },
  {
   "cell_type": "markdown",
   "id": "933a144b",
   "metadata": {},
   "source": [
    "# verify frame continuity"
   ]
  },
  {
   "cell_type": "code",
   "execution_count": null,
   "id": "62e7b74d",
   "metadata": {},
   "outputs": [],
   "source": [
    "from mixing.video.video_concat import verify_frame_continuity\n",
    "\n",
    "match, diff = verify_frame_continuity(\n",
    "    '/Users/thorwhalen/Downloads/cosmo_vids/00_Book_Skyscraper_City_Video.mp4',\n",
    "    '/Users/thorwhalen/Downloads/cosmo_vids/01_Book_Towers_Collapsing_Video.mp4',\n",
    "    save_comparison='/Users/thorwhalen/Downloads/cosmo_vids/frame_comparison.png'\n",
    ")"
   ]
  },
  {
   "cell_type": "code",
   "execution_count": null,
   "id": "a577b4f8",
   "metadata": {},
   "outputs": [],
   "source": []
  },
  {
   "cell_type": "markdown",
   "id": "37fd9458",
   "metadata": {},
   "source": [
    "# Frames-to-Video"
   ]
  },
  {
   "cell_type": "code",
   "execution_count": null,
   "id": "27969821",
   "metadata": {},
   "outputs": [],
   "source": []
  },
  {
   "cell_type": "code",
   "execution_count": 12,
   "id": "554b16c3",
   "metadata": {},
   "outputs": [
    {
     "name": "stdout",
     "output_type": "stream",
     "text": [
      "Generated video: /Users/thorwhalen/Downloads/generated_video_ (3).mp4\n"
     ]
    }
   ],
   "source": [
    "from mixing.video.video_gen import generate_video\n",
    "\n",
    "video_paths = generate_video(\n",
    "    prompt=\"Camera rolls 90 degrees counter-clockwise, while flying papers glow so much till they look like stars.\",\n",
    "    first_frame='/Users/thorwhalen/Downloads/cosmo_vids/06a_Celestial_Book_Page_Eruption_Video.mp4',\n",
    "    last_frame= '/Users/thorwhalen/Downloads/cosmo_vids/10_Visualizing_Customer_Review_Concentration.mp4',\n",
    "    model=\"veo-2.0-generate-001\",\n",
    "    aspect_ratio=\"16:9\",\n",
    "    duration_seconds=8,\n",
    "    save_video=\"/Users/thorwhalen/Downloads/\",\n",
    ")\n",
    "\n",
    "# Handle both single path (string) and multiple paths (list)\n",
    "if isinstance(video_paths, str):\n",
    "    print(f\"Generated video: {video_paths}\")\n",
    "elif isinstance(video_paths, list):\n",
    "    print(\"Generated videos:\")\n",
    "    for i, p in enumerate(video_paths):\n",
    "        print(f\"  {i+1}: {p}\")\n",
    "else:\n",
    "    print(f\"Unexpected result type: {type(video_paths)} = {video_paths}\")"
   ]
  },
  {
   "cell_type": "code",
   "execution_count": null,
   "id": "3c0b6bc8",
   "metadata": {},
   "outputs": [],
   "source": []
  },
  {
   "cell_type": "code",
   "execution_count": null,
   "id": "6c047f42",
   "metadata": {},
   "outputs": [],
   "source": []
  },
  {
   "cell_type": "markdown",
   "id": "2698cae8",
   "metadata": {},
   "source": []
  },
  {
   "cell_type": "markdown",
   "id": "f95901a1",
   "metadata": {},
   "source": [
    "# Concatenating videos"
   ]
  },
  {
   "cell_type": "code",
   "execution_count": 8,
   "id": "b7889af3",
   "metadata": {},
   "outputs": [],
   "source": [
    "from mixing.video.video_concat import *"
   ]
  },
  {
   "cell_type": "code",
   "execution_count": 9,
   "id": "a6e89fd5",
   "metadata": {},
   "outputs": [
    {
     "name": "stdout",
     "output_type": "stream",
     "text": [
      "MoviePy - Building video /Users/thorwhalen/Downloads/cosmo_vids/concat_crossfade.mp4.\n",
      "MoviePy - Writing audio in concat_crossfadeTEMP_MPY_wvf_snd.mp3\n"
     ]
    },
    {
     "name": "stderr",
     "output_type": "stream",
     "text": [
      "                                                                    \r"
     ]
    },
    {
     "name": "stdout",
     "output_type": "stream",
     "text": [
      "MoviePy - Done.\n",
      "MoviePy - Writing video /Users/thorwhalen/Downloads/cosmo_vids/concat_crossfade.mp4\n",
      "\n"
     ]
    },
    {
     "name": "stderr",
     "output_type": "stream",
     "text": [
      "                                                                         \r"
     ]
    },
    {
     "name": "stdout",
     "output_type": "stream",
     "text": [
      "MoviePy - Done !\n",
      "MoviePy - video ready /Users/thorwhalen/Downloads/cosmo_vids/concat_crossfade.mp4\n",
      "Crossfade: Saved to /Users/thorwhalen/Downloads/cosmo_vids/concat_crossfade.mp4\n",
      "MoviePy - Building video /Users/thorwhalen/Downloads/cosmo_vids/concat_trim_crossfade.mp4.\n",
      "MoviePy - Writing audio in concat_trim_crossfadeTEMP_MPY_wvf_snd.mp3\n"
     ]
    },
    {
     "name": "stderr",
     "output_type": "stream",
     "text": [
      "                                                                    \r"
     ]
    },
    {
     "name": "stdout",
     "output_type": "stream",
     "text": [
      "MoviePy - Done.\n",
      "MoviePy - Writing video /Users/thorwhalen/Downloads/cosmo_vids/concat_trim_crossfade.mp4\n",
      "\n"
     ]
    },
    {
     "name": "stderr",
     "output_type": "stream",
     "text": [
      "                                                                         \r"
     ]
    },
    {
     "name": "stdout",
     "output_type": "stream",
     "text": [
      "MoviePy - Done !\n",
      "MoviePy - video ready /Users/thorwhalen/Downloads/cosmo_vids/concat_trim_crossfade.mp4\n",
      "Trim+Crossfade: Saved to /Users/thorwhalen/Downloads/cosmo_vids/concat_trim_crossfade.mp4\n",
      "MoviePy - Building video /Users/thorwhalen/Downloads/cosmo_vids/concat_black_fades.mp4.\n",
      "MoviePy - Writing audio in concat_black_fadesTEMP_MPY_wvf_snd.mp3\n"
     ]
    },
    {
     "name": "stderr",
     "output_type": "stream",
     "text": [
      "                                                                    \r"
     ]
    },
    {
     "name": "stdout",
     "output_type": "stream",
     "text": [
      "MoviePy - Done.\n",
      "MoviePy - Writing video /Users/thorwhalen/Downloads/cosmo_vids/concat_black_fades.mp4\n",
      "\n"
     ]
    },
    {
     "name": "stderr",
     "output_type": "stream",
     "text": [
      "                                                                         \r"
     ]
    },
    {
     "name": "stdout",
     "output_type": "stream",
     "text": [
      "MoviePy - Done !\n",
      "MoviePy - video ready /Users/thorwhalen/Downloads/cosmo_vids/concat_black_fades.mp4\n",
      "Black fades: Saved to /Users/thorwhalen/Downloads/cosmo_vids/concat_black_fades.mp4\n",
      "MoviePy - Building video /Users/thorwhalen/Downloads/cosmo_vids/concat_overlap.mp4.\n",
      "MoviePy - Writing audio in concat_overlapTEMP_MPY_wvf_snd.mp3\n"
     ]
    },
    {
     "name": "stderr",
     "output_type": "stream",
     "text": [
      "                                                                    \r"
     ]
    },
    {
     "name": "stdout",
     "output_type": "stream",
     "text": [
      "MoviePy - Done.\n",
      "MoviePy - Writing video /Users/thorwhalen/Downloads/cosmo_vids/concat_overlap.mp4\n",
      "\n"
     ]
    },
    {
     "name": "stderr",
     "output_type": "stream",
     "text": [
      "                                                                         \r"
     ]
    },
    {
     "name": "stdout",
     "output_type": "stream",
     "text": [
      "MoviePy - Done !\n",
      "MoviePy - video ready /Users/thorwhalen/Downloads/cosmo_vids/concat_overlap.mp4\n",
      "Overlap blend: Saved to /Users/thorwhalen/Downloads/cosmo_vids/concat_overlap.mp4\n",
      "\n",
      "✅ All four versions created! Compare them to see which you prefer.\n"
     ]
    }
   ],
   "source": [
    "def trim_first_frame_from_subsequent_clips(clips: list[VideoFileClip]) -> Iterable[VideoFileClip]:\n",
    "    \"\"\"Keep first clip intact, trim first frame from subsequent clips.\"\"\"\n",
    "    yield clips[0]\n",
    "    for clip in clips[1:]:\n",
    "        yield clip.subclipped(1 / clip.fps)\n",
    "        \n",
    "def stitch_with_first_frame_trim(video_paths, output_path):\n",
    "    \"\"\"Trim first frame from subsequent clips (no transition).\"\"\"\n",
    "    final_clip = concatenate_videos(\n",
    "        video_paths,\n",
    "        transform_clips=trim_first_frame_from_subsequent_clips,\n",
    "        output_path=output_path\n",
    "    )\n",
    "    final_clip.close()\n",
    "    print(f\"First frame trim: Saved to {output_path}\")\n",
    "\n",
    "\n",
    "def stitch_with_crossfade(video_paths, output_path, *, duration=0.5):\n",
    "    \"\"\"Simple crossfade between clips.\"\"\"\n",
    "    final_clip = concatenate_videos(\n",
    "        video_paths,\n",
    "        transform_clips=lambda clips: crossfade_transition(clips, duration=duration),\n",
    "        output_path=output_path\n",
    "    )\n",
    "    final_clip.close()\n",
    "    print(f\"Crossfade: Saved to {output_path}\")\n",
    "\n",
    "\n",
    "def stitch_with_trim_and_crossfade(video_paths, output_path, *, duration=0.4):\n",
    "    \"\"\"Trim first frame then crossfade.\"\"\"\n",
    "    final_clip = concatenate_videos(\n",
    "        video_paths,\n",
    "        transform_clips=lambda clips: trim_and_crossfade(clips, duration=duration),\n",
    "        output_path=output_path\n",
    "    )\n",
    "    final_clip.close()\n",
    "    print(f\"Trim+Crossfade: Saved to {output_path}\")\n",
    "\n",
    "\n",
    "def stitch_with_black_fades(video_paths, output_path, *, duration=0.3):\n",
    "    \"\"\"Fade through black between clips.\"\"\"\n",
    "    final_clip = concatenate_videos(\n",
    "        video_paths,\n",
    "        transform_clips=lambda clips: fade_through_black(clips, duration=duration),\n",
    "        output_path=output_path\n",
    "    )\n",
    "    final_clip.close()\n",
    "    print(f\"Black fades: Saved to {output_path}\")\n",
    "\n",
    "\n",
    "def stitch_with_overlap(video_paths, output_path, *, overlap=0.5):\n",
    "    \"\"\"Overlap and blend clips.\"\"\"\n",
    "    final_clip = concatenate_videos(\n",
    "        video_paths,\n",
    "        transform_clips=lambda clips: overlap_blend(clips, overlap=overlap),\n",
    "        output_path=output_path\n",
    "    )\n",
    "    final_clip.close()\n",
    "    print(f\"Overlap blend: Saved to {output_path}\")\n",
    "\n",
    "\n",
    "\n",
    "video_paths = \"\"\"\n",
    "/Users/thorwhalen/Downloads/cosmo_vids/00_Book_Skyscraper_City_Video.mp4\n",
    "/Users/thorwhalen/Downloads/cosmo_vids/01_Book_Towers_Collapsing_Video.mp4\n",
    "/Users/thorwhalen/Downloads/cosmo_vids/02_meh_Catastrophic_Book_City_Collapse_Video.mp4\n",
    "\"\"\".split()\n",
    "\n",
    "# Execute all four options\n",
    "base_path = \"/Users/thorwhalen/Downloads/cosmo_vids\"\n",
    "\n",
    "# Option 1: Simple crossfade\n",
    "stitch_with_crossfade(\n",
    "    video_paths,\n",
    "    f\"{base_path}/concat_crossfade.mp4\",\n",
    "    duration=0.5\n",
    ")\n",
    "\n",
    "# Option 2: Trim first frame + crossfade (RECOMMENDED)\n",
    "stitch_with_trim_and_crossfade(\n",
    "    video_paths,\n",
    "    f\"{base_path}/concat_trim_crossfade.mp4\",\n",
    "    duration=0.4\n",
    ")\n",
    "\n",
    "# Option 3: Fade through black\n",
    "stitch_with_black_fades(\n",
    "    video_paths,\n",
    "    f\"{base_path}/concat_black_fades.mp4\",\n",
    "    duration=0.3\n",
    ")\n",
    "\n",
    "# Option 4: Overlap blend\n",
    "stitch_with_overlap(\n",
    "    video_paths,\n",
    "    f\"{base_path}/concat_overlap.mp4\",\n",
    "    overlap=0.5\n",
    ")\n",
    "\n",
    "print(\"\\n✅ All four versions created! Compare them to see which you prefer.\")"
   ]
  },
  {
   "cell_type": "code",
   "execution_count": null,
   "id": "bd617801",
   "metadata": {},
   "outputs": [],
   "source": []
  },
  {
   "cell_type": "code",
   "execution_count": null,
   "id": "5b634de7",
   "metadata": {},
   "outputs": [],
   "source": []
  },
  {
   "cell_type": "code",
   "execution_count": null,
   "id": "15308540",
   "metadata": {},
   "outputs": [
    {
     "data": {
      "text/plain": [
       "(False, 0.1358312724105846)"
      ]
     },
     "metadata": {},
     "output_type": "display_data"
    }
   ],
   "source": [
    "verify_frame_continuity(\n",
    "    '/Users/thorwhalen/Downloads/cosmo_vids/00_Book_Skyscraper_City_Video.mp4',\n",
    "    '/Users/thorwhalen/Downloads/cosmo_vids/01_Book_Towers_Collapsing_Video.mp4'\n",
    ")"
   ]
  },
  {
   "cell_type": "code",
   "execution_count": null,
   "id": "e69c80e8",
   "metadata": {},
   "outputs": [
    {
     "name": "stdout",
     "output_type": "stream",
     "text": [
      "Comparison saved to: /Users/thorwhalen/Downloads/cosmo_vids/frame_comparison.png\n"
     ]
    }
   ],
   "source": [
    "match, diff = verify_frame_continuity(\n",
    "    '/Users/thorwhalen/Downloads/cosmo_vids/00_Book_Skyscraper_City_Video.mp4',\n",
    "    '/Users/thorwhalen/Downloads/cosmo_vids/01_Book_Towers_Collapsing_Video.mp4',\n",
    "    save_comparison='/Users/thorwhalen/Downloads/cosmo_vids/frame_comparison.png'\n",
    ")"
   ]
  },
  {
   "cell_type": "code",
   "execution_count": null,
   "id": "293445a9",
   "metadata": {},
   "outputs": [],
   "source": []
  },
  {
   "cell_type": "code",
   "execution_count": null,
   "id": "3e913a44",
   "metadata": {},
   "outputs": [],
   "source": []
  },
  {
   "cell_type": "code",
   "execution_count": null,
   "id": "5804c3bf",
   "metadata": {},
   "outputs": [],
   "source": []
  },
  {
   "cell_type": "code",
   "execution_count": null,
   "id": "296b4f02",
   "metadata": {},
   "outputs": [],
   "source": []
  },
  {
   "cell_type": "code",
   "execution_count": null,
   "id": "30348106",
   "metadata": {},
   "outputs": [],
   "source": []
  }
 ],
 "metadata": {
  "kernelspec": {
   "display_name": "p12",
   "language": "python",
   "name": "python3"
  },
  "language_info": {
   "codemirror_mode": {
    "name": "ipython",
    "version": 3
   },
   "file_extension": ".py",
   "mimetype": "text/x-python",
   "name": "python",
   "nbconvert_exporter": "python",
   "pygments_lexer": "ipython3",
   "version": "3.12.12"
  }
 },
 "nbformat": 4,
 "nbformat_minor": 5
}
