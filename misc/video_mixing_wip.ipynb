{
 "cells": [
  {
   "cell_type": "code",
   "execution_count": null,
   "id": "14c39b3e",
   "metadata": {},
   "outputs": [],
   "source": []
  },
  {
   "cell_type": "markdown",
   "id": "c8452f28",
   "metadata": {},
   "source": [
    "# Grabbing frames"
   ]
  },
  {
   "cell_type": "code",
   "execution_count": null,
   "id": "4b764d8d",
   "metadata": {},
   "outputs": [
    {
     "data": {
      "text/plain": [
       "'/Users/thorwhalen/Downloads/cosmo_vids/05b_Collapsing_Book_Towers_Pages_in_Space_-00001.png'"
      ]
     },
     "metadata": {},
     "output_type": "display_data"
    }
   ],
   "source": [
    "from mixing.video.video_files import save_frame\n",
    "\n",
    "video = '/Users/thorwhalen/Downloads/cosmo_vids/05b_Collapsing_Book_Towers_Pages_in_Space.mp4'\n",
    "save_frame(video, frame_idx=-1)"
   ]
  },
  {
   "cell_type": "markdown",
   "id": "8fa8187a",
   "metadata": {},
   "source": [
    "# Concatenating videos"
   ]
  },
  {
   "cell_type": "code",
   "execution_count": null,
   "id": "3a59a0c3",
   "metadata": {},
   "outputs": [
    {
     "data": {
      "text/plain": [
       "['/Users/thorwhalen/Downloads/cosmo_vids/01_Book_Skyscraper_City_Video.mp4',\n",
       " '/Users/thorwhalen/Downloads/cosmo_vids/02_Book_Towers_Collapsing_Video.mp4',\n",
       " '/Users/thorwhalen/Downloads/cosmo_vids/03d_Collapsing_Book_City_Cinematic_Video.mp4',\n",
       " '/Users/thorwhalen/Downloads/cosmo_vids/04b_City_Collapse_Book_Page_Animation.mp4',\n",
       " '/Users/thorwhalen/Downloads/cosmo_vids/05b_Collapsing_Book_Towers_Pages_in_Space.mp4',\n",
       " '/Users/thorwhalen/Downloads/cosmo_vids/06a_Celestial_Book_Page_Eruption_Video.mp4',\n",
       " '/Users/thorwhalen/Downloads/cosmo_vids/10_Visualizing_Customer_Review_Concentration.mp4',\n",
       " '/Users/thorwhalen/Downloads/cosmo_vids/11_Generating_Video_From_Image_Description.mp4',\n",
       " '/Users/thorwhalen/Downloads/cosmo_vids/12_Sphere_to_Constellation_Video_Generation.mp4']"
      ]
     },
     "metadata": {},
     "output_type": "display_data"
    }
   ],
   "source": [
    "import dol\n",
    "\n",
    "s = dol.filesys.FileCollection('/Users/thorwhalen/Downloads/cosmo_vids/', max_levels=0)\n",
    "s = dol.filt_iter(s, filt=lambda f: f.endswith('.mp4') and not f.startswith('/Users/thorwhalen/Downloads/cosmo_vids/_'))\n",
    "video_files = sorted(s)\n",
    "video_files"
   ]
  },
  {
   "cell_type": "code",
   "execution_count": null,
   "id": "8bbd5afc",
   "metadata": {},
   "outputs": [
    {
     "name": "stdout",
     "output_type": "stream",
     "text": [
      "MoviePy - Building video /Users/thorwhalen/Downloads/cosmo_vids/combined_4.mp4.\n",
      "MoviePy - Writing audio in combined_4TEMP_MPY_wvf_snd.mp3\n"
     ]
    },
    {
     "name": "stderr",
     "output_type": "stream",
     "text": [
      "                                                                      \r"
     ]
    },
    {
     "name": "stdout",
     "output_type": "stream",
     "text": [
      "MoviePy - Done.\n",
      "MoviePy - Writing video /Users/thorwhalen/Downloads/cosmo_vids/combined_4.mp4\n",
      "\n"
     ]
    },
    {
     "name": "stderr",
     "output_type": "stream",
     "text": [
      "                                                                           \r"
     ]
    },
    {
     "name": "stdout",
     "output_type": "stream",
     "text": [
      "MoviePy - Done !\n",
      "MoviePy - video ready /Users/thorwhalen/Downloads/cosmo_vids/combined_4.mp4\n"
     ]
    }
   ],
   "source": [
    "from moviepy import VideoFileClip, concatenate_videoclips\n",
    "\n",
    "# video_files =\"\"\"\n",
    "# /Users/thorwhalen/Downloads/cosmo_vids/00_Book_Skyscraper_City_Video.mp4\n",
    "# /Users/thorwhalen/Downloads/cosmo_vids/01_Book_Towers_Collapsing_Video.mp4\n",
    "# /Users/thorwhalen/Downloads/cosmo_vids/03d_Collapsing_Book_City_Cinematic_Video.mp4\n",
    "# \"\"\".split()\n",
    "\n",
    "\n",
    "v = concatenate_videoclips(list(map(VideoFileClip, video_files)))\n",
    "v.write_videofile(\"/Users/thorwhalen/Downloads/cosmo_vids/combined_4.mp4\")"
   ]
  },
  {
   "cell_type": "code",
   "execution_count": null,
   "id": "a577b4f8",
   "metadata": {},
   "outputs": [],
   "source": []
  },
  {
   "cell_type": "markdown",
   "id": "37fd9458",
   "metadata": {},
   "source": [
    "# Frames-to-Video"
   ]
  },
  {
   "cell_type": "code",
   "execution_count": null,
   "id": "27969821",
   "metadata": {},
   "outputs": [],
   "source": [
    " '/Users/thorwhalen/Downloads/cosmo_vids/06a_Celestial_Book_Page_Eruption_Video.mp4',\n",
    " '/Users/thorwhalen/Downloads/cosmo_vids/10_Visualizing_Customer_Review_Concentration.mp4'"
   ]
  },
  {
   "cell_type": "code",
   "execution_count": 3,
   "id": "554b16c3",
   "metadata": {},
   "outputs": [
    {
     "ename": "ValidationError",
     "evalue": "1 validation error for Image\ndata\n  Extra inputs are not permitted [type=extra_forbidden, input_value='iVBORw0KGgoAAAANSUhEUgAA...8LTiQAAAABJRU5ErkJggg==', input_type=str]\n    For further information visit https://errors.pydantic.dev/2.12/v/extra_forbidden",
     "output_type": "error",
     "traceback": [
      "\u001b[0;31m---------------------------------------------------------------------------\u001b[0m",
      "\u001b[0;31mValidationError\u001b[0m                           Traceback (most recent call last)",
      "Cell \u001b[0;32mIn[3], line 3\u001b[0m\n\u001b[1;32m      1\u001b[0m \u001b[38;5;28;01mfrom\u001b[39;00m\u001b[38;5;250m \u001b[39m\u001b[38;5;21;01mmixing\u001b[39;00m\u001b[38;5;21;01m.\u001b[39;00m\u001b[38;5;21;01mvideo\u001b[39;00m\u001b[38;5;21;01m.\u001b[39;00m\u001b[38;5;21;01mvideo_gen\u001b[39;00m\u001b[38;5;250m \u001b[39m\u001b[38;5;28;01mimport\u001b[39;00m generate_video\n\u001b[0;32m----> 3\u001b[0m op \u001b[38;5;241m=\u001b[39m \u001b[43mgenerate_video\u001b[49m\u001b[43m(\u001b[49m\n\u001b[1;32m      4\u001b[0m \u001b[43m    \u001b[49m\u001b[43mprompt\u001b[49m\u001b[38;5;241;43m=\u001b[39;49m\u001b[38;5;124;43m\"\u001b[39;49m\u001b[38;5;124;43mCamera rolls 90 degrees counter-clockwise, while flying papers glow so much till they look like stars.\u001b[39;49m\u001b[38;5;124;43m\"\u001b[39;49m\u001b[43m,\u001b[49m\n\u001b[1;32m      5\u001b[0m \u001b[43m    \u001b[49m\u001b[43mfirst_frame\u001b[49m\u001b[38;5;241;43m=\u001b[39;49m\u001b[38;5;124;43m'\u001b[39;49m\u001b[38;5;124;43m/Users/thorwhalen/Downloads/cosmo_vids/06a_Celestial_Book_Page_Eruption_Video.mp4\u001b[39;49m\u001b[38;5;124;43m'\u001b[39;49m\u001b[43m,\u001b[49m\n\u001b[1;32m      6\u001b[0m \u001b[43m    \u001b[49m\u001b[43mlast_frame\u001b[49m\u001b[38;5;241;43m=\u001b[39;49m\u001b[43m \u001b[49m\u001b[38;5;124;43m'\u001b[39;49m\u001b[38;5;124;43m/Users/thorwhalen/Downloads/cosmo_vids/10_Visualizing_Customer_Review_Concentration.mp4\u001b[39;49m\u001b[38;5;124;43m'\u001b[39;49m\u001b[43m,\u001b[49m\n\u001b[1;32m      7\u001b[0m \u001b[43m    \u001b[49m\u001b[43mmodel\u001b[49m\u001b[38;5;241;43m=\u001b[39;49m\u001b[38;5;124;43m\"\u001b[39;49m\u001b[38;5;124;43mveo-2.0-generate-001\u001b[39;49m\u001b[38;5;124;43m\"\u001b[39;49m\u001b[43m,\u001b[49m\n\u001b[1;32m      8\u001b[0m \u001b[43m    \u001b[49m\u001b[43maspect_ratio\u001b[49m\u001b[38;5;241;43m=\u001b[39;49m\u001b[38;5;124;43m\"\u001b[39;49m\u001b[38;5;124;43m16:9\u001b[39;49m\u001b[38;5;124;43m\"\u001b[39;49m\u001b[43m,\u001b[49m\n\u001b[1;32m      9\u001b[0m \u001b[43m    \u001b[49m\u001b[43mduration_seconds\u001b[49m\u001b[38;5;241;43m=\u001b[39;49m\u001b[38;5;241;43m8\u001b[39;49m\u001b[43m,\u001b[49m\n\u001b[1;32m     10\u001b[0m \u001b[43m    \u001b[49m\u001b[38;5;66;43;03m# output_gcs_uri=\"gs://mybucket/output_prefix/\"\u001b[39;49;00m\n\u001b[1;32m     11\u001b[0m \u001b[43m)\u001b[49m\n\u001b[1;32m     12\u001b[0m \u001b[38;5;66;03m# Access generated videos\u001b[39;00m\n\u001b[1;32m     13\u001b[0m \u001b[38;5;66;03m# for vid in op.response.generated_videos:\u001b[39;00m\n\u001b[1;32m     14\u001b[0m \u001b[38;5;66;03m#     print(\"Generated video GCS URI:\", vid.video)\u001b[39;00m\n",
      "File \u001b[0;32m~/Dropbox/py/proj/t/mixing/mixing/video/video_gen.py:78\u001b[0m, in \u001b[0;36mgenerate_video\u001b[0;34m(prompt, first_frame, last_frame, model, aspect_ratio, duration_seconds, output_gcs_uri)\u001b[0m\n\u001b[1;32m     76\u001b[0m     frame_path \u001b[38;5;241m=\u001b[39m _get_frame_path(first_frame, frame_idx\u001b[38;5;241m=\u001b[39m\u001b[38;5;241m0\u001b[39m)\n\u001b[1;32m     77\u001b[0m     b64, mime \u001b[38;5;241m=\u001b[39m _read_image_as_base64(frame_path)\n\u001b[0;32m---> 78\u001b[0m     image_obj \u001b[38;5;241m=\u001b[39m \u001b[43mImage\u001b[49m\u001b[43m(\u001b[49m\n\u001b[1;32m     79\u001b[0m \u001b[43m        \u001b[49m\u001b[43mmime_type\u001b[49m\u001b[38;5;241;43m=\u001b[39;49m\u001b[43mmime\u001b[49m\u001b[43m,\u001b[49m\n\u001b[1;32m     80\u001b[0m \u001b[43m        \u001b[49m\u001b[43mdata\u001b[49m\u001b[38;5;241;43m=\u001b[39;49m\u001b[43mb64\u001b[49m\u001b[43m,\u001b[49m\n\u001b[1;32m     81\u001b[0m \u001b[43m    \u001b[49m\u001b[43m)\u001b[49m\n\u001b[1;32m     82\u001b[0m \u001b[38;5;28;01mif\u001b[39;00m last_frame:\n\u001b[1;32m     83\u001b[0m     \u001b[38;5;66;03m# Get last frame (-1) if it's a video, otherwise use as-is\u001b[39;00m\n\u001b[1;32m     84\u001b[0m     frame_path \u001b[38;5;241m=\u001b[39m _get_frame_path(last_frame, frame_idx\u001b[38;5;241m=\u001b[39m\u001b[38;5;241m-\u001b[39m\u001b[38;5;241m1\u001b[39m)\n",
      "File \u001b[0;32m~/.pyenv/versions/3.10.13/envs/p10/lib/python3.10/site-packages/pydantic/main.py:250\u001b[0m, in \u001b[0;36mBaseModel.__init__\u001b[0;34m(self, **data)\u001b[0m\n\u001b[1;32m    248\u001b[0m \u001b[38;5;66;03m# `__tracebackhide__` tells pytest and some other tools to omit this function from tracebacks\u001b[39;00m\n\u001b[1;32m    249\u001b[0m __tracebackhide__ \u001b[38;5;241m=\u001b[39m \u001b[38;5;28;01mTrue\u001b[39;00m\n\u001b[0;32m--> 250\u001b[0m validated_self \u001b[38;5;241m=\u001b[39m \u001b[38;5;28;43mself\u001b[39;49m\u001b[38;5;241;43m.\u001b[39;49m\u001b[43m__pydantic_validator__\u001b[49m\u001b[38;5;241;43m.\u001b[39;49m\u001b[43mvalidate_python\u001b[49m\u001b[43m(\u001b[49m\u001b[43mdata\u001b[49m\u001b[43m,\u001b[49m\u001b[43m \u001b[49m\u001b[43mself_instance\u001b[49m\u001b[38;5;241;43m=\u001b[39;49m\u001b[38;5;28;43mself\u001b[39;49m\u001b[43m)\u001b[49m\n\u001b[1;32m    251\u001b[0m \u001b[38;5;28;01mif\u001b[39;00m \u001b[38;5;28mself\u001b[39m \u001b[38;5;129;01mis\u001b[39;00m \u001b[38;5;129;01mnot\u001b[39;00m validated_self:\n\u001b[1;32m    252\u001b[0m     warnings\u001b[38;5;241m.\u001b[39mwarn(\n\u001b[1;32m    253\u001b[0m         \u001b[38;5;124m'\u001b[39m\u001b[38;5;124mA custom validator is returning a value other than `self`.\u001b[39m\u001b[38;5;130;01m\\n\u001b[39;00m\u001b[38;5;124m'\u001b[39m\n\u001b[1;32m    254\u001b[0m         \u001b[38;5;124m\"\u001b[39m\u001b[38;5;124mReturning anything other than `self` from a top level model validator isn\u001b[39m\u001b[38;5;124m'\u001b[39m\u001b[38;5;124mt supported when validating via `__init__`.\u001b[39m\u001b[38;5;130;01m\\n\u001b[39;00m\u001b[38;5;124m\"\u001b[39m\n\u001b[1;32m    255\u001b[0m         \u001b[38;5;124m'\u001b[39m\u001b[38;5;124mSee the `model_validator` docs (https://docs.pydantic.dev/latest/concepts/validators/#model-validators) for more details.\u001b[39m\u001b[38;5;124m'\u001b[39m,\n\u001b[1;32m    256\u001b[0m         stacklevel\u001b[38;5;241m=\u001b[39m\u001b[38;5;241m2\u001b[39m,\n\u001b[1;32m    257\u001b[0m     )\n",
      "\u001b[0;31mValidationError\u001b[0m: 1 validation error for Image\ndata\n  Extra inputs are not permitted [type=extra_forbidden, input_value='iVBORw0KGgoAAAANSUhEUgAA...8LTiQAAAABJRU5ErkJggg==', input_type=str]\n    For further information visit https://errors.pydantic.dev/2.12/v/extra_forbidden"
     ]
    }
   ],
   "source": [
    "from mixing.video.video_gen import generate_video\n",
    "\n",
    "op = generate_video(\n",
    "    prompt=\"Camera rolls 90 degrees counter-clockwise, while flying papers glow so much till they look like stars.\",\n",
    "    first_frame='/Users/thorwhalen/Downloads/cosmo_vids/06a_Celestial_Book_Page_Eruption_Video.mp4',\n",
    "    last_frame= '/Users/thorwhalen/Downloads/cosmo_vids/10_Visualizing_Customer_Review_Concentration.mp4',\n",
    "    model=\"veo-2.0-generate-001\",\n",
    "    aspect_ratio=\"16:9\",\n",
    "    duration_seconds=8,\n",
    "    # output_gcs_uri=\"gs://mybucket/output_prefix/\"\n",
    ")\n",
    "# Access generated videos\n",
    "# for vid in op.response.generated_videos:\n",
    "#     print(\"Generated video GCS URI:\", vid.video)"
   ]
  },
  {
   "cell_type": "code",
   "execution_count": null,
   "id": "5cabc69c",
   "metadata": {},
   "outputs": [],
   "source": []
  },
  {
   "cell_type": "code",
   "execution_count": null,
   "id": "e659892e",
   "metadata": {},
   "outputs": [],
   "source": []
  },
  {
   "cell_type": "code",
   "execution_count": null,
   "id": "6b9e985d",
   "metadata": {},
   "outputs": [],
   "source": []
  },
  {
   "cell_type": "markdown",
   "id": "f95901a1",
   "metadata": {},
   "source": [
    "# Concatenating videos"
   ]
  },
  {
   "cell_type": "code",
   "execution_count": 8,
   "id": "b7889af3",
   "metadata": {},
   "outputs": [],
   "source": [
    "from mixing.video.video_concat import *"
   ]
  },
  {
   "cell_type": "code",
   "execution_count": 9,
   "id": "a6e89fd5",
   "metadata": {},
   "outputs": [
    {
     "name": "stdout",
     "output_type": "stream",
     "text": [
      "MoviePy - Building video /Users/thorwhalen/Downloads/cosmo_vids/concat_crossfade.mp4.\n",
      "MoviePy - Writing audio in concat_crossfadeTEMP_MPY_wvf_snd.mp3\n"
     ]
    },
    {
     "name": "stderr",
     "output_type": "stream",
     "text": [
      "                                                                    \r"
     ]
    },
    {
     "name": "stdout",
     "output_type": "stream",
     "text": [
      "MoviePy - Done.\n",
      "MoviePy - Writing video /Users/thorwhalen/Downloads/cosmo_vids/concat_crossfade.mp4\n",
      "\n"
     ]
    },
    {
     "name": "stderr",
     "output_type": "stream",
     "text": [
      "                                                                         \r"
     ]
    },
    {
     "name": "stdout",
     "output_type": "stream",
     "text": [
      "MoviePy - Done !\n",
      "MoviePy - video ready /Users/thorwhalen/Downloads/cosmo_vids/concat_crossfade.mp4\n",
      "Crossfade: Saved to /Users/thorwhalen/Downloads/cosmo_vids/concat_crossfade.mp4\n",
      "MoviePy - Building video /Users/thorwhalen/Downloads/cosmo_vids/concat_trim_crossfade.mp4.\n",
      "MoviePy - Writing audio in concat_trim_crossfadeTEMP_MPY_wvf_snd.mp3\n"
     ]
    },
    {
     "name": "stderr",
     "output_type": "stream",
     "text": [
      "                                                                    \r"
     ]
    },
    {
     "name": "stdout",
     "output_type": "stream",
     "text": [
      "MoviePy - Done.\n",
      "MoviePy - Writing video /Users/thorwhalen/Downloads/cosmo_vids/concat_trim_crossfade.mp4\n",
      "\n"
     ]
    },
    {
     "name": "stderr",
     "output_type": "stream",
     "text": [
      "                                                                         \r"
     ]
    },
    {
     "name": "stdout",
     "output_type": "stream",
     "text": [
      "MoviePy - Done !\n",
      "MoviePy - video ready /Users/thorwhalen/Downloads/cosmo_vids/concat_trim_crossfade.mp4\n",
      "Trim+Crossfade: Saved to /Users/thorwhalen/Downloads/cosmo_vids/concat_trim_crossfade.mp4\n",
      "MoviePy - Building video /Users/thorwhalen/Downloads/cosmo_vids/concat_black_fades.mp4.\n",
      "MoviePy - Writing audio in concat_black_fadesTEMP_MPY_wvf_snd.mp3\n"
     ]
    },
    {
     "name": "stderr",
     "output_type": "stream",
     "text": [
      "                                                                    \r"
     ]
    },
    {
     "name": "stdout",
     "output_type": "stream",
     "text": [
      "MoviePy - Done.\n",
      "MoviePy - Writing video /Users/thorwhalen/Downloads/cosmo_vids/concat_black_fades.mp4\n",
      "\n"
     ]
    },
    {
     "name": "stderr",
     "output_type": "stream",
     "text": [
      "                                                                         \r"
     ]
    },
    {
     "name": "stdout",
     "output_type": "stream",
     "text": [
      "MoviePy - Done !\n",
      "MoviePy - video ready /Users/thorwhalen/Downloads/cosmo_vids/concat_black_fades.mp4\n",
      "Black fades: Saved to /Users/thorwhalen/Downloads/cosmo_vids/concat_black_fades.mp4\n",
      "MoviePy - Building video /Users/thorwhalen/Downloads/cosmo_vids/concat_overlap.mp4.\n",
      "MoviePy - Writing audio in concat_overlapTEMP_MPY_wvf_snd.mp3\n"
     ]
    },
    {
     "name": "stderr",
     "output_type": "stream",
     "text": [
      "                                                                    \r"
     ]
    },
    {
     "name": "stdout",
     "output_type": "stream",
     "text": [
      "MoviePy - Done.\n",
      "MoviePy - Writing video /Users/thorwhalen/Downloads/cosmo_vids/concat_overlap.mp4\n",
      "\n"
     ]
    },
    {
     "name": "stderr",
     "output_type": "stream",
     "text": [
      "                                                                         \r"
     ]
    },
    {
     "name": "stdout",
     "output_type": "stream",
     "text": [
      "MoviePy - Done !\n",
      "MoviePy - video ready /Users/thorwhalen/Downloads/cosmo_vids/concat_overlap.mp4\n",
      "Overlap blend: Saved to /Users/thorwhalen/Downloads/cosmo_vids/concat_overlap.mp4\n",
      "\n",
      "✅ All four versions created! Compare them to see which you prefer.\n"
     ]
    }
   ],
   "source": [
    "def trim_first_frame_from_subsequent_clips(clips: list[VideoFileClip]) -> Iterable[VideoFileClip]:\n",
    "    \"\"\"Keep first clip intact, trim first frame from subsequent clips.\"\"\"\n",
    "    yield clips[0]\n",
    "    for clip in clips[1:]:\n",
    "        yield clip.subclipped(1 / clip.fps)\n",
    "        \n",
    "def stitch_with_first_frame_trim(video_paths, output_path):\n",
    "    \"\"\"Trim first frame from subsequent clips (no transition).\"\"\"\n",
    "    final_clip = concatenate_videos(\n",
    "        video_paths,\n",
    "        transform_clips=trim_first_frame_from_subsequent_clips,\n",
    "        output_path=output_path\n",
    "    )\n",
    "    final_clip.close()\n",
    "    print(f\"First frame trim: Saved to {output_path}\")\n",
    "\n",
    "\n",
    "def stitch_with_crossfade(video_paths, output_path, *, duration=0.5):\n",
    "    \"\"\"Simple crossfade between clips.\"\"\"\n",
    "    final_clip = concatenate_videos(\n",
    "        video_paths,\n",
    "        transform_clips=lambda clips: crossfade_transition(clips, duration=duration),\n",
    "        output_path=output_path\n",
    "    )\n",
    "    final_clip.close()\n",
    "    print(f\"Crossfade: Saved to {output_path}\")\n",
    "\n",
    "\n",
    "def stitch_with_trim_and_crossfade(video_paths, output_path, *, duration=0.4):\n",
    "    \"\"\"Trim first frame then crossfade.\"\"\"\n",
    "    final_clip = concatenate_videos(\n",
    "        video_paths,\n",
    "        transform_clips=lambda clips: trim_and_crossfade(clips, duration=duration),\n",
    "        output_path=output_path\n",
    "    )\n",
    "    final_clip.close()\n",
    "    print(f\"Trim+Crossfade: Saved to {output_path}\")\n",
    "\n",
    "\n",
    "def stitch_with_black_fades(video_paths, output_path, *, duration=0.3):\n",
    "    \"\"\"Fade through black between clips.\"\"\"\n",
    "    final_clip = concatenate_videos(\n",
    "        video_paths,\n",
    "        transform_clips=lambda clips: fade_through_black(clips, duration=duration),\n",
    "        output_path=output_path\n",
    "    )\n",
    "    final_clip.close()\n",
    "    print(f\"Black fades: Saved to {output_path}\")\n",
    "\n",
    "\n",
    "def stitch_with_overlap(video_paths, output_path, *, overlap=0.5):\n",
    "    \"\"\"Overlap and blend clips.\"\"\"\n",
    "    final_clip = concatenate_videos(\n",
    "        video_paths,\n",
    "        transform_clips=lambda clips: overlap_blend(clips, overlap=overlap),\n",
    "        output_path=output_path\n",
    "    )\n",
    "    final_clip.close()\n",
    "    print(f\"Overlap blend: Saved to {output_path}\")\n",
    "\n",
    "\n",
    "\n",
    "video_paths = \"\"\"\n",
    "/Users/thorwhalen/Downloads/cosmo_vids/00_Book_Skyscraper_City_Video.mp4\n",
    "/Users/thorwhalen/Downloads/cosmo_vids/01_Book_Towers_Collapsing_Video.mp4\n",
    "/Users/thorwhalen/Downloads/cosmo_vids/02_meh_Catastrophic_Book_City_Collapse_Video.mp4\n",
    "\"\"\".split()\n",
    "\n",
    "# Execute all four options\n",
    "base_path = \"/Users/thorwhalen/Downloads/cosmo_vids\"\n",
    "\n",
    "# Option 1: Simple crossfade\n",
    "stitch_with_crossfade(\n",
    "    video_paths,\n",
    "    f\"{base_path}/concat_crossfade.mp4\",\n",
    "    duration=0.5\n",
    ")\n",
    "\n",
    "# Option 2: Trim first frame + crossfade (RECOMMENDED)\n",
    "stitch_with_trim_and_crossfade(\n",
    "    video_paths,\n",
    "    f\"{base_path}/concat_trim_crossfade.mp4\",\n",
    "    duration=0.4\n",
    ")\n",
    "\n",
    "# Option 3: Fade through black\n",
    "stitch_with_black_fades(\n",
    "    video_paths,\n",
    "    f\"{base_path}/concat_black_fades.mp4\",\n",
    "    duration=0.3\n",
    ")\n",
    "\n",
    "# Option 4: Overlap blend\n",
    "stitch_with_overlap(\n",
    "    video_paths,\n",
    "    f\"{base_path}/concat_overlap.mp4\",\n",
    "    overlap=0.5\n",
    ")\n",
    "\n",
    "print(\"\\n✅ All four versions created! Compare them to see which you prefer.\")"
   ]
  },
  {
   "cell_type": "code",
   "execution_count": null,
   "id": "bd617801",
   "metadata": {},
   "outputs": [],
   "source": []
  },
  {
   "cell_type": "code",
   "execution_count": null,
   "id": "5b634de7",
   "metadata": {},
   "outputs": [],
   "source": []
  },
  {
   "cell_type": "code",
   "execution_count": null,
   "id": "15308540",
   "metadata": {},
   "outputs": [
    {
     "data": {
      "text/plain": [
       "(False, 0.1358312724105846)"
      ]
     },
     "metadata": {},
     "output_type": "display_data"
    }
   ],
   "source": [
    "verify_frame_continuity(\n",
    "    '/Users/thorwhalen/Downloads/cosmo_vids/00_Book_Skyscraper_City_Video.mp4',\n",
    "    '/Users/thorwhalen/Downloads/cosmo_vids/01_Book_Towers_Collapsing_Video.mp4'\n",
    ")"
   ]
  },
  {
   "cell_type": "code",
   "execution_count": null,
   "id": "e69c80e8",
   "metadata": {},
   "outputs": [
    {
     "name": "stdout",
     "output_type": "stream",
     "text": [
      "Comparison saved to: /Users/thorwhalen/Downloads/cosmo_vids/frame_comparison.png\n"
     ]
    }
   ],
   "source": [
    "match, diff = verify_frame_continuity(\n",
    "    '/Users/thorwhalen/Downloads/cosmo_vids/00_Book_Skyscraper_City_Video.mp4',\n",
    "    '/Users/thorwhalen/Downloads/cosmo_vids/01_Book_Towers_Collapsing_Video.mp4',\n",
    "    save_comparison='/Users/thorwhalen/Downloads/cosmo_vids/frame_comparison.png'\n",
    ")"
   ]
  },
  {
   "cell_type": "code",
   "execution_count": null,
   "id": "293445a9",
   "metadata": {},
   "outputs": [],
   "source": []
  },
  {
   "cell_type": "code",
   "execution_count": null,
   "id": "3e913a44",
   "metadata": {},
   "outputs": [],
   "source": []
  },
  {
   "cell_type": "code",
   "execution_count": null,
   "id": "5804c3bf",
   "metadata": {},
   "outputs": [],
   "source": []
  },
  {
   "cell_type": "code",
   "execution_count": null,
   "id": "296b4f02",
   "metadata": {},
   "outputs": [],
   "source": []
  },
  {
   "cell_type": "code",
   "execution_count": null,
   "id": "30348106",
   "metadata": {},
   "outputs": [],
   "source": []
  }
 ],
 "metadata": {
  "kernelspec": {
   "display_name": "p10",
   "language": "python",
   "name": "python3"
  },
  "language_info": {
   "codemirror_mode": {
    "name": "ipython",
    "version": 3
   },
   "file_extension": ".py",
   "mimetype": "text/x-python",
   "name": "python",
   "nbconvert_exporter": "python",
   "pygments_lexer": "ipython3",
   "version": "3.10.13"
  }
 },
 "nbformat": 4,
 "nbformat_minor": 5
}
